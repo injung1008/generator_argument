{
 "cells": [
  {
   "cell_type": "markdown",
   "id": "ce539de5",
   "metadata": {
    "toc": true
   },
   "source": [
    "<h1>Table of Contents<span class=\"tocSkip\"></span></h1>\n",
    "<div class=\"toc\"><ul class=\"toc-item\"></ul></div>"
   ]
  },
  {
   "cell_type": "code",
   "execution_count": 1,
   "id": "368a6fbc",
   "metadata": {},
   "outputs": [],
   "source": [
    "import math\n",
    "import os\n",
    "import random\n",
    "from pathlib import Path\n",
    "import numpy as np\n",
    "import yaml\n",
    "import glob\n",
    "import cv2\n",
    "import torch\n",
    "from pathlib import Path\n",
    "import pandas as pd"
   ]
  },
  {
   "cell_type": "code",
   "execution_count": 2,
   "id": "7debed96",
   "metadata": {},
   "outputs": [],
   "source": [
    "def img2label_paths(img_paths):\n",
    "    # Define label paths as a function of image paths\n",
    "    sa, sb = f'{os.sep}images{os.sep}', f'{os.sep}labels{os.sep}'  # /images/, /labels/ substrings\n",
    "    return [sb.join(x.rsplit(sa, 1)).rsplit('.', 1)[0] + '.txt' for x in img_paths]\n",
    "def myLoadImage(i, im_files, augment=True) :\n",
    "    f = im_files[i]\n",
    "    im = cv2.imread(f)\n",
    "    h0, w0 = im.shape[:2]\n",
    "    r = img_size / max(h0, w0)\n",
    "    if r != 1:  # if sizes are not equal\n",
    "        interp = cv2.INTER_LINEAR if augment else cv2.INTER_AREA  # random.choice(self.rand_interp_methods)\n",
    "        im = cv2.resize(im, (int(w0 * r), int(h0 * r)), interpolation=interp)\n",
    "    return im, (h0, w0), im.shape[:2] \n",
    "def xywhn2xyxy(x, w=640, h=640, padw=0, padh=0):\n",
    "    # Convert nx4 boxes from [x, y, w, h] normalized to [x1, y1, x2, y2] where xy1=top-left, xy2=bottom-right\n",
    "    y = x.clone() if isinstance(x, torch.Tensor) else np.copy(x)\n",
    "    y[:, 0] = w * (x[:, 0] - x[:, 2] / 2) + padw  # top left x\n",
    "    y[:, 1] = h * (x[:, 1] - x[:, 3] / 2) + padh  # top left y\n",
    "    y[:, 2] = w * (x[:, 0] + x[:, 2] / 2) + padw  # bottom right x\n",
    "    y[:, 3] = h * (x[:, 1] + x[:, 3] / 2) + padh  # bottom right y\n",
    "    return y\n",
    "def xyxy2xywhn(x, w=640, h=640, clip=False, eps=0.0):\n",
    "    # Convert nx4 boxes from [x1, y1, x2, y2] to [x, y, w, h] normalized where xy1=top-left, xy2=bottom-right\n",
    "    if clip:\n",
    "        clip_coords(x, (h - eps, w - eps))  # warning: inplace clip\n",
    "    y = x.clone() if isinstance(x, torch.Tensor) else np.copy(x)\n",
    "    y[:, 0] = ((x[:, 0] + x[:, 2]) / 2) / w  # x center\n",
    "    y[:, 1] = ((x[:, 1] + x[:, 3]) / 2) / h  # y center\n",
    "    y[:, 2] = (x[:, 2] - x[:, 0]) / w  # width\n",
    "    y[:, 3] = (x[:, 3] - x[:, 1]) / h  # height\n",
    "    return y\n",
    "def noPad(label, xc, yc, xmin, ymin) :\n",
    "    label4_ = label.copy()\n",
    "    if ((xc>s) & (yc<s)) :\n",
    "        label4_[:,1] = label4_[:,1] - xmin\n",
    "        label4_[:,3] = label4_[:,3] - xmin\n",
    "    elif ((xc<s) & (yc>s)) :\n",
    "        label4_[:,2] = label4_[:,2] - ymin\n",
    "        label4_[:,4] = label4_[:,4] - ymin\n",
    "    elif ((xc>s) & (yc>s)) :\n",
    "        label4_[:,1] = label4_[:,1] - xmin\n",
    "        label4_[:,3] = label4_[:,3] - xmin\n",
    "        label4_[:,2] = label4_[:,2] - ymin\n",
    "        label4_[:,4] = label4_[:,4] - ymin\n",
    "    return label4_"
   ]
  },
  {
   "cell_type": "code",
   "execution_count": 56,
   "id": "a7604756",
   "metadata": {},
   "outputs": [],
   "source": [
    "def myMosaic(img_size, path, form = \"xyxy\") :\n",
    "    labels4 = []\n",
    "    s = img_size\n",
    "    mosaic_border = [-img_size // 2, -img_size // 2]\n",
    "    print(f'mosaic_border : {mosaic_border}')\n",
    "\n",
    "    # center point\n",
    "    yc, xc = (int(random.uniform(-x, 2 * s + x)) for x in mosaic_border)  # mosaic center x, y # 81 172\n",
    "    print(f'yc, xc : {yc, xc}')\n",
    "    # image files and labels\n",
    "    # train set & not Scratch\n",
    "    im_files = np.array([i for i in os.listdir(path) if i.endswith(\"png\")], dtype = \"object\")\n",
    "    print(f'im_files : {im_files}')\n",
    "    im_files = list(path + \"/\" + im_files)\n",
    "    print(f'im_files : {im_files}')\n",
    "    label_files = img2label_paths(im_files) \n",
    "    print(f'label_files : {label_files}')\n",
    "\n",
    "    n = len(im_files)\n",
    "    print(f'n : {n}')\n",
    "    indices_ = range(n)\n",
    "    print(f'indices_ : {indices_}')\n",
    "\n",
    "    # random 4 images\n",
    "    indices = random.choices(indices_, k=4)  # 3 additional image indices # [0, 3292, 20762, 18713]\n",
    "    print(f'indices : {indices}')\n",
    "\n",
    "    random.shuffle(indices)  # [18713, 0, 20762, 3292]\n",
    "\n",
    "    for i, index in enumerate(indices):\n",
    "        # Load image\n",
    "        img, (h0, w0), (h, w) = myLoadImage(index,im_files)\n",
    "        print(f'img : {img.shape}')\n",
    "        print(f'i : {i}')\n",
    "        # place img in img4\n",
    "        if i == 0:  # top left\n",
    "            img4 = np.full((s * 2, s * 2, img.shape[2]), 114, dtype=np.uint8)  # base image with 4 tiles\n",
    "            x1a, y1a, x2a, y2a = max(xc - w, 0), max(yc - h, 0), xc, yc  # xmin, ymin, xmax, ymax (large image)\n",
    "            x1b, y1b, x2b, y2b = w - (x2a - x1a), h - (y2a - y1a), w, h  # xmin, ymin, xmax, ymax (small image)\n",
    "\n",
    "            xmin, ymin = x1a, y1a\n",
    "\n",
    "        elif i == 1:  # top right\n",
    "            x1a, y1a, x2a, y2a = xc, max(yc - h, 0), min(xc + w, s * 2), yc\n",
    "            x1b, y1b, x2b, y2b = 0, h - (y2a - y1a), min(w, x2a - x1a), h\n",
    "        elif i == 2:  # bottom left\n",
    "            x1a, y1a, x2a, y2a = max(xc - w, 0), yc, xc, min(s * 2, yc + h)\n",
    "            x1b, y1b, x2b, y2b = w - (x2a - x1a), 0, w, min(y2a - y1a, h)\n",
    "        elif i == 3:  # bottom right\n",
    "            x1a, y1a, x2a, y2a = xc, yc, min(xc + w, s * 2), min(s * 2, yc + h)\n",
    "            x1b, y1b, x2b, y2b = 0, 0, min(w, x2a - x1a), min(y2a - y1a, h)\n",
    "\n",
    "            xmax, ymax = x2a, y2a\n",
    "\n",
    "        img4[y1a:y2a, x1a:x2a] = img[y1b:y2b, x1b:x2b]  # img4[ymin:ymax, xmin:xmax]\n",
    "        padw = x1a - x1b\n",
    "        padh = y1a - y1b\n",
    "\n",
    "        # Labels\n",
    "        labels = np.loadtxt(label_files[index], ndmin=2)\n",
    "\n",
    "        if labels.size:\n",
    "            labels[:, 1:] = xywhn2xyxy(labels[:, 1:], w, h, padw, padh)  # normalized xywh to pixel xyxy format\n",
    "            labels[labels < 0] = 0\n",
    "            labels[labels > s*2] = s*2\n",
    "        labels4.append(labels)\n",
    "\n",
    "    # Concat/clip labels\n",
    "    labels4 = np.concatenate(labels4, 0)\n",
    "\n",
    "    # no padding\n",
    "    img4 = img4[ymin:ymax, xmin:xmax,:]\n",
    "#     labels4 = noPad(labels4, xc, yc, xmin, ymin)\n",
    "\n",
    "    # resize\n",
    "    img4 = cv2.resize(img4, (w,h))\n",
    "    labels4[:,1:] = xyxy2xywhn(labels4[:,1:], w = xmax - xmin, h = ymax-ymin)\n",
    "    labels4 = labels4[labels4[:,3]>0]\n",
    "    labels4 = labels4[labels4[:,4]>0]\n",
    "    \n",
    "    if form == \"xyxy\" :\n",
    "        labels4[:,1:] = xywhn2xyxy(labels4[:,1:], w = img4.shape[1], h = img4.shape[0])\n",
    "    \n",
    "    return img4, labels4\n"
   ]
  },
  {
   "cell_type": "code",
   "execution_count": 57,
   "id": "4dccb00b",
   "metadata": {},
   "outputs": [],
   "source": [
    "from PIL import Image, ImageDraw\n",
    "import matplotlib.patches as patches\n",
    "def myFig(img, bbox, drawB = True) :\n",
    "    image = Image.fromarray(img,\"RGB\")\n",
    "    draw = ImageDraw.Draw(image)\n",
    "\n",
    "    if drawB :\n",
    "        for i in range(len(bbox)) :\n",
    "            xmin = bbox[i][1] \n",
    "            ymin = bbox[i][2]\n",
    "            xmax = bbox[i][3]\n",
    "            ymax = bbox[i][4]\n",
    "\n",
    "            draw.rectangle((xmin, ymin, xmax, ymax), outline=(255,0,0), width = 1) # bounding box\n",
    "#     display(image)\n",
    "    return image"
   ]
  },
  {
   "cell_type": "code",
   "execution_count": 58,
   "id": "7731685a",
   "metadata": {},
   "outputs": [],
   "source": [
    "img_size = 64\n",
    "# path = '/data/ij/Mosaic_data_augmentation_YOLO/coco128/images/train2017'\n",
    "path = '/data/ij/Mosaic_data_augmentation_YOLO/images'"
   ]
  },
  {
   "cell_type": "code",
   "execution_count": 59,
   "id": "41b58ece",
   "metadata": {},
   "outputs": [
    {
     "name": "stdout",
     "output_type": "stream",
     "text": [
      "mosaic_border : [-32, -32]\n",
      "yc, xc : (78, 71)\n",
      "im_files : ['generated_image_573.png' 'generated_image_817.png'\n",
      " 'generated_image_287.png' 'generated_image_592.png'\n",
      " 'generated_image_62.png' 'generated_image_541.png'\n",
      " 'generated_image_393.png' 'generated_image_521.png'\n",
      " 'generated_image_803.png' 'generated_image_559.png'\n",
      " 'generated_image_566.png' 'generated_image_127.png'\n",
      " 'generated_image_530.png' 'generated_image_872.png'\n",
      " 'generated_image_280.png' 'generated_image_597.png'\n",
      " 'generated_image_694.png' 'generated_image_708.png'\n",
      " 'generated_image_442.png' 'generated_image_739.png'\n",
      " 'generated_image_319.png' 'generated_image_136.png'\n",
      " 'generated_image_434.png' 'generated_image_876.png'\n",
      " 'generated_image_185.png' 'generated_image_469.png'\n",
      " 'generated_image_773.png' 'generated_image_264.png'\n",
      " 'generated_image_433.png' 'generated_image_556.png'\n",
      " 'generated_image_568.png' 'generated_image_740.png'\n",
      " 'generated_image_295.png' 'generated_image_377.png'\n",
      " 'generated_image_899.png' 'generated_image_611.png'\n",
      " 'generated_image_627.png' 'generated_image_745.png'\n",
      " 'generated_image_330.png' 'generated_image_804.png'\n",
      " 'generated_image_549.png' 'generated_image_402.png'\n",
      " 'generated_image_144.png' 'generated_image_1.png'\n",
      " 'generated_image_378.png' 'generated_image_429.png'\n",
      " 'generated_image_366.png' 'generated_image_561.png'\n",
      " 'generated_image_21.png' 'generated_image_51.png'\n",
      " 'generated_image_254.png' 'generated_image_448.png'\n",
      " 'generated_image_431.png' 'generated_image_3.png'\n",
      " 'generated_image_443.png' 'generated_image_188.png'\n",
      " 'generated_image_106.png' 'generated_image_676.png'\n",
      " 'generated_image_167.png' 'generated_image_242.png'\n",
      " 'generated_image_759.png' 'generated_image_84.png'\n",
      " 'generated_image_231.png' 'generated_image_613.png'\n",
      " 'generated_image_844.png' 'generated_image_305.png'\n",
      " 'generated_image_220.png' 'generated_image_512.png'\n",
      " 'generated_image_594.png' 'generated_image_240.png'\n",
      " 'generated_image_262.png' 'generated_image_822.png'\n",
      " 'generated_image_854.png' 'generated_image_76.png'\n",
      " 'generated_image_638.png' 'generated_image_690.png'\n",
      " 'generated_image_421.png' 'generated_image_811.png'\n",
      " 'generated_image_174.png' 'generated_image_197.png'\n",
      " 'generated_image_772.png' 'generated_image_322.png'\n",
      " 'generated_image_837.png' 'generated_image_726.png'\n",
      " 'generated_image_508.png' 'generated_image_57.png'\n",
      " 'generated_image_498.png' 'generated_image_339.png'\n",
      " 'generated_image_291.png' 'generated_image_277.png'\n",
      " 'generated_image_586.png' 'generated_image_165.png'\n",
      " 'generated_image_67.png' 'generated_image_187.png'\n",
      " 'generated_image_56.png' 'generated_image_58.png'\n",
      " 'generated_image_869.png' 'generated_image_313.png'\n",
      " 'generated_image_572.png' 'generated_image_752.png'\n",
      " 'generated_image_506.png' 'generated_image_795.png'\n",
      " 'generated_image_205.png' 'generated_image_333.png'\n",
      " 'generated_image_477.png' 'generated_image_82.png'\n",
      " 'generated_image_445.png' 'generated_image_576.png'\n",
      " 'generated_image_94.png' 'generated_image_170.png'\n",
      " 'generated_image_206.png' 'generated_image_36.png'\n",
      " 'generated_image_148.png' 'generated_image_533.png'\n",
      " 'generated_image_482.png' 'generated_image_347.png'\n",
      " 'generated_image_494.png' 'generated_image_268.png'\n",
      " 'generated_image_647.png' 'generated_image_826.png'\n",
      " 'generated_image_352.png' 'generated_image_461.png'\n",
      " 'generated_image_342.png' 'generated_image_569.png'\n",
      " 'generated_image_25.png' 'generated_image_635.png'\n",
      " 'generated_image_391.png' 'generated_image_398.png'\n",
      " 'generated_image_712.png' 'generated_image_11.png'\n",
      " 'generated_image_505.png' 'generated_image_222.png'\n",
      " 'generated_image_294.png' 'generated_image_68.png'\n",
      " 'generated_image_158.png' 'generated_image_548.png'\n",
      " 'generated_image_478.png' 'generated_image_621.png'\n",
      " 'generated_image_70.png' 'generated_image_501.png'\n",
      " 'generated_image_423.png' 'generated_image_190.png'\n",
      " 'generated_image_63.png' 'generated_image_750.png'\n",
      " 'generated_image_273.png' 'generated_image_78.png'\n",
      " 'generated_image_873.png' 'generated_image_245.png'\n",
      " 'generated_image_310.png' 'generated_image_455.png'\n",
      " 'generated_image_49.png' 'generated_image_807.png'\n",
      " 'generated_image_85.png' 'generated_image_388.png'\n",
      " 'generated_image_430.png' 'generated_image_338.png'\n",
      " 'generated_image_132.png' 'generated_image_358.png'\n",
      " 'generated_image_885.png' 'generated_image_417.png'\n",
      " 'generated_image_195.png' 'generated_image_893.png'\n",
      " 'generated_image_699.png' 'generated_image_217.png'\n",
      " 'generated_image_55.png' 'generated_image_419.png'\n",
      " 'generated_image_357.png' 'generated_image_857.png'\n",
      " 'generated_image_650.png' 'generated_image_765.png'\n",
      " 'generated_image_614.png' 'generated_image_409.png'\n",
      " 'generated_image_198.png' 'generated_image_889.png'\n",
      " 'generated_image_894.png' 'generated_image_802.png'\n",
      " 'generated_image_555.png' 'generated_image_760.png'\n",
      " 'generated_image_678.png' 'generated_image_529.png'\n",
      " 'generated_image_345.png' 'generated_image_446.png'\n",
      " 'generated_image_466.png' 'generated_image_716.png'\n",
      " 'generated_image_767.png' 'generated_image_411.png'\n",
      " 'generated_image_696.png' 'generated_image_157.png'\n",
      " 'generated_image_326.png' 'generated_image_177.png'\n",
      " 'generated_image_252.png' 'generated_image_766.png'\n",
      " 'generated_image_32.png' 'generated_image_424.png'\n",
      " 'generated_image_321.png' 'generated_image_838.png'\n",
      " 'generated_image_812.png' 'generated_image_654.png'\n",
      " 'generated_image_584.png' 'generated_image_405.png'\n",
      " 'generated_image_687.png' 'generated_image_425.png'\n",
      " 'generated_image_53.png' 'generated_image_436.png'\n",
      " 'generated_image_526.png' 'generated_image_407.png'\n",
      " 'generated_image_328.png' 'generated_image_648.png'\n",
      " 'generated_image_551.png' 'generated_image_757.png'\n",
      " 'generated_image_418.png' 'generated_image_485.png'\n",
      " 'generated_image_182.png' 'generated_image_617.png'\n",
      " 'generated_image_335.png' 'generated_image_725.png'\n",
      " 'generated_image_216.png' 'generated_image_33.png'\n",
      " 'generated_image_42.png' 'generated_image_312.png'\n",
      " 'generated_image_344.png' 'generated_image_785.png'\n",
      " 'generated_image_380.png' 'generated_image_880.png'\n",
      " 'generated_image_60.png' 'generated_image_323.png'\n",
      " 'generated_image_762.png' 'generated_image_632.png'\n",
      " 'generated_image_513.png' 'generated_image_644.png'\n",
      " 'generated_image_189.png' 'generated_image_747.png'\n",
      " 'generated_image_578.png' 'generated_image_59.png'\n",
      " 'generated_image_581.png' 'generated_image_737.png'\n",
      " 'generated_image_374.png' 'generated_image_475.png'\n",
      " 'generated_image_550.png' 'generated_image_703.png'\n",
      " 'generated_image_599.png' 'generated_image_267.png'\n",
      " 'generated_image_168.png' 'generated_image_860.png'\n",
      " 'generated_image_152.png' 'generated_image_31.png'\n",
      " 'generated_image_117.png' 'generated_image_140.png'\n",
      " 'generated_image_878.png' 'generated_image_783.png'\n",
      " 'generated_image_898.png' 'generated_image_428.png'\n",
      " 'generated_image_845.png' 'generated_image_28.png'\n",
      " 'generated_image_888.png' 'generated_image_350.png'\n",
      " 'generated_image_670.png' 'generated_image_48.png'\n",
      " 'generated_image_318.png' 'generated_image_511.png'\n",
      " 'generated_image_744.png' 'generated_image_72.png'\n",
      " 'generated_image_141.png' 'generated_image_142.png'\n",
      " 'generated_image_527.png' 'generated_image_119.png'\n",
      " 'generated_image_151.png' 'generated_image_504.png'\n",
      " 'generated_image_451.png' 'generated_image_606.png'\n",
      " 'generated_image_729.png' 'generated_image_91.png'\n",
      " 'generated_image_590.png' 'generated_image_69.png'\n",
      " 'generated_image_479.png' 'generated_image_43.png'\n",
      " 'generated_image_449.png' 'generated_image_88.png'\n",
      " 'generated_image_701.png' 'generated_image_503.png'\n",
      " 'generated_image_228.png' 'generated_image_820.png'\n",
      " 'generated_image_886.png' 'generated_image_10.png'\n",
      " 'generated_image_660.png' 'generated_image_282.png'\n",
      " 'generated_image_8.png' 'generated_image_510.png'\n",
      " 'generated_image_385.png' 'generated_image_874.png'\n",
      " 'generated_image_397.png' 'generated_image_235.png'\n",
      " 'generated_image_4.png' 'generated_image_0.png' 'generated_image_575.png'\n",
      " 'generated_image_789.png' 'generated_image_24.png'\n",
      " 'generated_image_689.png' 'generated_image_538.png'\n",
      " 'generated_image_685.png' 'generated_image_577.png'\n",
      " 'generated_image_115.png' 'generated_image_825.png'\n",
      " 'generated_image_456.png' 'generated_image_615.png'\n",
      " 'generated_image_781.png' 'generated_image_602.png'\n",
      " 'generated_image_113.png' 'generated_image_382.png'\n",
      " 'generated_image_571.png' 'generated_image_604.png'\n",
      " 'generated_image_798.png' 'generated_image_120.png'\n",
      " 'generated_image_266.png' 'generated_image_191.png'\n",
      " 'generated_image_414.png' 'generated_image_753.png'\n",
      " 'generated_image_852.png' 'generated_image_679.png'\n",
      " 'generated_image_458.png' 'generated_image_331.png'\n",
      " 'generated_image_462.png' 'generated_image_246.png'\n",
      " 'generated_image_95.png' 'generated_image_746.png'\n",
      " 'generated_image_66.png' 'generated_image_656.png'\n",
      " 'generated_image_693.png' 'generated_image_731.png'\n",
      " 'generated_image_278.png' 'generated_image_396.png'\n",
      " 'generated_image_183.png' 'generated_image_695.png'\n",
      " 'generated_image_256.png' 'generated_image_797.png'\n",
      " 'generated_image_663.png' 'generated_image_54.png'\n",
      " 'generated_image_502.png' 'generated_image_612.png'\n",
      " 'generated_image_250.png' 'generated_image_640.png'\n",
      " 'generated_image_270.png' 'generated_image_384.png'\n",
      " 'generated_image_192.png' 'generated_image_229.png'\n",
      " 'generated_image_496.png' 'generated_image_727.png'\n",
      " 'generated_image_805.png' 'generated_image_271.png'\n",
      " 'generated_image_868.png' 'generated_image_432.png'\n",
      " 'generated_image_404.png' 'generated_image_547.png'\n",
      " 'generated_image_570.png' 'generated_image_176.png'\n",
      " 'generated_image_830.png' 'generated_image_887.png'\n",
      " 'generated_image_155.png' 'generated_image_871.png'\n",
      " 'generated_image_370.png' 'generated_image_671.png'\n",
      " 'generated_image_722.png' 'generated_image_50.png'\n",
      " 'generated_image_848.png' 'generated_image_733.png'\n",
      " 'generated_image_224.png' 'generated_image_585.png'\n",
      " 'generated_image_369.png' 'generated_image_543.png'\n",
      " 'generated_image_211.png' 'generated_image_314.png'\n",
      " 'generated_image_691.png' 'generated_image_672.png'\n",
      " 'generated_image_900.png' 'generated_image_669.png'\n",
      " 'generated_image_307.png' 'generated_image_118.png'\n",
      " 'generated_image_849.png' 'generated_image_311.png'\n",
      " 'generated_image_401.png' 'generated_image_203.png'\n",
      " 'generated_image_625.png' 'generated_image_116.png'\n",
      " 'generated_image_743.png' 'generated_image_146.png'\n",
      " 'generated_image_360.png' 'generated_image_372.png'\n",
      " 'generated_image_361.png' 'generated_image_45.png'\n",
      " 'generated_image_476.png' 'generated_image_653.png'\n",
      " 'generated_image_306.png' 'generated_image_126.png'\n",
      " 'generated_image_121.png' 'generated_image_47.png'\n",
      " 'generated_image_248.png' 'generated_image_81.png'\n",
      " 'generated_image_463.png' 'generated_image_389.png'\n",
      " 'generated_image_464.png' 'generated_image_238.png'\n",
      " 'generated_image_13.png' 'generated_image_64.png'\n",
      " 'generated_image_688.png' 'generated_image_166.png'\n",
      " 'generated_image_351.png' 'generated_image_655.png'\n",
      " 'generated_image_835.png' 'generated_image_156.png'\n",
      " 'generated_image_686.png' 'generated_image_682.png'\n",
      " 'generated_image_719.png' 'generated_image_130.png'\n",
      " 'generated_image_545.png' 'generated_image_702.png'\n",
      " 'generated_image_422.png' 'generated_image_709.png'\n",
      " 'generated_image_856.png' 'generated_image_379.png'\n",
      " 'generated_image_901.png' 'generated_image_61.png'\n",
      " 'generated_image_99.png' 'generated_image_100.png'\n",
      " 'generated_image_89.png' 'generated_image_831.png'\n",
      " 'generated_image_453.png' 'generated_image_395.png'\n",
      " 'generated_image_18.png' 'generated_image_601.png'\n",
      " 'generated_image_356.png' 'generated_image_735.png'\n",
      " 'generated_image_738.png' 'generated_image_406.png'\n",
      " 'generated_image_633.png' 'generated_image_105.png'\n",
      " 'generated_image_186.png' 'generated_image_799.png'\n",
      " 'generated_image_605.png' 'generated_image_437.png'\n",
      " 'generated_image_794.png' 'generated_image_728.png'\n",
      " 'generated_image_368.png' 'generated_image_546.png'\n",
      " 'generated_image_866.png' 'generated_image_587.png'\n",
      " 'generated_image_500.png' 'generated_image_237.png'\n",
      " 'generated_image_580.png' 'generated_image_756.png'\n",
      " 'generated_image_620.png' 'generated_image_2.png'\n",
      " 'generated_image_363.png' 'generated_image_516.png'\n",
      " 'generated_image_289.png' 'generated_image_892.png'\n",
      " 'generated_image_674.png' 'generated_image_883.png'\n",
      " 'generated_image_243.png' 'generated_image_881.png'\n",
      " 'generated_image_525.png' 'generated_image_46.png'\n",
      " 'generated_image_302.png' 'generated_image_309.png'\n",
      " 'generated_image_770.png' 'generated_image_450.png'\n",
      " 'generated_image_239.png' 'generated_image_175.png'\n",
      " 'generated_image_97.png' 'generated_image_816.png'\n",
      " 'generated_image_723.png' 'generated_image_285.png'\n",
      " 'generated_image_769.png' 'generated_image_700.png'\n",
      " 'generated_image_806.png' 'generated_image_519.png'\n",
      " 'generated_image_603.png' 'generated_image_128.png'\n",
      " 'generated_image_208.png' 'generated_image_666.png'\n",
      " 'generated_image_227.png' 'generated_image_630.png'\n",
      " 'generated_image_588.png' 'generated_image_444.png'\n",
      " 'generated_image_218.png' 'generated_image_440.png'\n",
      " 'generated_image_879.png' 'generated_image_163.png'\n",
      " 'generated_image_808.png' 'generated_image_673.png'\n",
      " 'generated_image_164.png' 'generated_image_904.png'\n",
      " 'generated_image_554.png' 'generated_image_184.png'\n",
      " 'generated_image_353.png' 'generated_image_281.png'\n",
      " 'generated_image_683.png' 'generated_image_14.png'\n",
      " 'generated_image_813.png' 'generated_image_153.png'\n",
      " 'generated_image_810.png' 'generated_image_316.png'\n",
      " 'generated_image_92.png' 'generated_image_755.png'\n",
      " 'generated_image_875.png' 'generated_image_234.png'\n",
      " 'generated_image_329.png' 'generated_image_34.png'\n",
      " 'generated_image_634.png' 'generated_image_520.png'\n",
      " 'generated_image_698.png' 'generated_image_371.png'\n",
      " 'generated_image_159.png' 'generated_image_37.png'\n",
      " 'generated_image_138.png' 'generated_image_162.png'\n",
      " 'generated_image_843.png' 'generated_image_652.png'\n",
      " 'generated_image_499.png' 'generated_image_531.png'\n",
      " 'generated_image_337.png' 'generated_image_532.png'\n",
      " 'generated_image_173.png' 'generated_image_40.png'\n",
      " 'generated_image_552.png' 'generated_image_646.png'\n",
      " 'generated_image_721.png' 'generated_image_244.png'\n",
      " 'generated_image_399.png' 'generated_image_474.png'\n",
      " 'generated_image_836.png' 'generated_image_400.png'\n",
      " 'generated_image_108.png' 'generated_image_834.png'\n",
      " 'generated_image_658.png']\n",
      "im_files : ['/data/ij/Mosaic_data_augmentation_YOLO/images/generated_image_573.png', '/data/ij/Mosaic_data_augmentation_YOLO/images/generated_image_817.png', '/data/ij/Mosaic_data_augmentation_YOLO/images/generated_image_287.png', '/data/ij/Mosaic_data_augmentation_YOLO/images/generated_image_592.png', '/data/ij/Mosaic_data_augmentation_YOLO/images/generated_image_62.png', '/data/ij/Mosaic_data_augmentation_YOLO/images/generated_image_541.png', '/data/ij/Mosaic_data_augmentation_YOLO/images/generated_image_393.png', '/data/ij/Mosaic_data_augmentation_YOLO/images/generated_image_521.png', '/data/ij/Mosaic_data_augmentation_YOLO/images/generated_image_803.png', '/data/ij/Mosaic_data_augmentation_YOLO/images/generated_image_559.png', '/data/ij/Mosaic_data_augmentation_YOLO/images/generated_image_566.png', '/data/ij/Mosaic_data_augmentation_YOLO/images/generated_image_127.png', '/data/ij/Mosaic_data_augmentation_YOLO/images/generated_image_530.png', '/data/ij/Mosaic_data_augmentation_YOLO/images/generated_image_872.png', '/data/ij/Mosaic_data_augmentation_YOLO/images/generated_image_280.png', '/data/ij/Mosaic_data_augmentation_YOLO/images/generated_image_597.png', '/data/ij/Mosaic_data_augmentation_YOLO/images/generated_image_694.png', '/data/ij/Mosaic_data_augmentation_YOLO/images/generated_image_708.png', '/data/ij/Mosaic_data_augmentation_YOLO/images/generated_image_442.png', '/data/ij/Mosaic_data_augmentation_YOLO/images/generated_image_739.png', '/data/ij/Mosaic_data_augmentation_YOLO/images/generated_image_319.png', '/data/ij/Mosaic_data_augmentation_YOLO/images/generated_image_136.png', '/data/ij/Mosaic_data_augmentation_YOLO/images/generated_image_434.png', '/data/ij/Mosaic_data_augmentation_YOLO/images/generated_image_876.png', '/data/ij/Mosaic_data_augmentation_YOLO/images/generated_image_185.png', '/data/ij/Mosaic_data_augmentation_YOLO/images/generated_image_469.png', '/data/ij/Mosaic_data_augmentation_YOLO/images/generated_image_773.png', '/data/ij/Mosaic_data_augmentation_YOLO/images/generated_image_264.png', '/data/ij/Mosaic_data_augmentation_YOLO/images/generated_image_433.png', '/data/ij/Mosaic_data_augmentation_YOLO/images/generated_image_556.png', '/data/ij/Mosaic_data_augmentation_YOLO/images/generated_image_568.png', '/data/ij/Mosaic_data_augmentation_YOLO/images/generated_image_740.png', '/data/ij/Mosaic_data_augmentation_YOLO/images/generated_image_295.png', '/data/ij/Mosaic_data_augmentation_YOLO/images/generated_image_377.png', '/data/ij/Mosaic_data_augmentation_YOLO/images/generated_image_899.png', '/data/ij/Mosaic_data_augmentation_YOLO/images/generated_image_611.png', '/data/ij/Mosaic_data_augmentation_YOLO/images/generated_image_627.png', '/data/ij/Mosaic_data_augmentation_YOLO/images/generated_image_745.png', '/data/ij/Mosaic_data_augmentation_YOLO/images/generated_image_330.png', '/data/ij/Mosaic_data_augmentation_YOLO/images/generated_image_804.png', '/data/ij/Mosaic_data_augmentation_YOLO/images/generated_image_549.png', '/data/ij/Mosaic_data_augmentation_YOLO/images/generated_image_402.png', '/data/ij/Mosaic_data_augmentation_YOLO/images/generated_image_144.png', '/data/ij/Mosaic_data_augmentation_YOLO/images/generated_image_1.png', '/data/ij/Mosaic_data_augmentation_YOLO/images/generated_image_378.png', '/data/ij/Mosaic_data_augmentation_YOLO/images/generated_image_429.png', '/data/ij/Mosaic_data_augmentation_YOLO/images/generated_image_366.png', '/data/ij/Mosaic_data_augmentation_YOLO/images/generated_image_561.png', '/data/ij/Mosaic_data_augmentation_YOLO/images/generated_image_21.png', '/data/ij/Mosaic_data_augmentation_YOLO/images/generated_image_51.png', '/data/ij/Mosaic_data_augmentation_YOLO/images/generated_image_254.png', '/data/ij/Mosaic_data_augmentation_YOLO/images/generated_image_448.png', '/data/ij/Mosaic_data_augmentation_YOLO/images/generated_image_431.png', '/data/ij/Mosaic_data_augmentation_YOLO/images/generated_image_3.png', '/data/ij/Mosaic_data_augmentation_YOLO/images/generated_image_443.png', '/data/ij/Mosaic_data_augmentation_YOLO/images/generated_image_188.png', '/data/ij/Mosaic_data_augmentation_YOLO/images/generated_image_106.png', '/data/ij/Mosaic_data_augmentation_YOLO/images/generated_image_676.png', '/data/ij/Mosaic_data_augmentation_YOLO/images/generated_image_167.png', '/data/ij/Mosaic_data_augmentation_YOLO/images/generated_image_242.png', '/data/ij/Mosaic_data_augmentation_YOLO/images/generated_image_759.png', '/data/ij/Mosaic_data_augmentation_YOLO/images/generated_image_84.png', '/data/ij/Mosaic_data_augmentation_YOLO/images/generated_image_231.png', '/data/ij/Mosaic_data_augmentation_YOLO/images/generated_image_613.png', '/data/ij/Mosaic_data_augmentation_YOLO/images/generated_image_844.png', '/data/ij/Mosaic_data_augmentation_YOLO/images/generated_image_305.png', '/data/ij/Mosaic_data_augmentation_YOLO/images/generated_image_220.png', '/data/ij/Mosaic_data_augmentation_YOLO/images/generated_image_512.png', '/data/ij/Mosaic_data_augmentation_YOLO/images/generated_image_594.png', '/data/ij/Mosaic_data_augmentation_YOLO/images/generated_image_240.png', '/data/ij/Mosaic_data_augmentation_YOLO/images/generated_image_262.png', '/data/ij/Mosaic_data_augmentation_YOLO/images/generated_image_822.png', '/data/ij/Mosaic_data_augmentation_YOLO/images/generated_image_854.png', '/data/ij/Mosaic_data_augmentation_YOLO/images/generated_image_76.png', '/data/ij/Mosaic_data_augmentation_YOLO/images/generated_image_638.png', '/data/ij/Mosaic_data_augmentation_YOLO/images/generated_image_690.png', '/data/ij/Mosaic_data_augmentation_YOLO/images/generated_image_421.png', '/data/ij/Mosaic_data_augmentation_YOLO/images/generated_image_811.png', '/data/ij/Mosaic_data_augmentation_YOLO/images/generated_image_174.png', '/data/ij/Mosaic_data_augmentation_YOLO/images/generated_image_197.png', '/data/ij/Mosaic_data_augmentation_YOLO/images/generated_image_772.png', '/data/ij/Mosaic_data_augmentation_YOLO/images/generated_image_322.png', '/data/ij/Mosaic_data_augmentation_YOLO/images/generated_image_837.png', '/data/ij/Mosaic_data_augmentation_YOLO/images/generated_image_726.png', '/data/ij/Mosaic_data_augmentation_YOLO/images/generated_image_508.png', '/data/ij/Mosaic_data_augmentation_YOLO/images/generated_image_57.png', '/data/ij/Mosaic_data_augmentation_YOLO/images/generated_image_498.png', '/data/ij/Mosaic_data_augmentation_YOLO/images/generated_image_339.png', '/data/ij/Mosaic_data_augmentation_YOLO/images/generated_image_291.png', '/data/ij/Mosaic_data_augmentation_YOLO/images/generated_image_277.png', '/data/ij/Mosaic_data_augmentation_YOLO/images/generated_image_586.png', '/data/ij/Mosaic_data_augmentation_YOLO/images/generated_image_165.png', '/data/ij/Mosaic_data_augmentation_YOLO/images/generated_image_67.png', '/data/ij/Mosaic_data_augmentation_YOLO/images/generated_image_187.png', '/data/ij/Mosaic_data_augmentation_YOLO/images/generated_image_56.png', '/data/ij/Mosaic_data_augmentation_YOLO/images/generated_image_58.png', '/data/ij/Mosaic_data_augmentation_YOLO/images/generated_image_869.png', '/data/ij/Mosaic_data_augmentation_YOLO/images/generated_image_313.png', '/data/ij/Mosaic_data_augmentation_YOLO/images/generated_image_572.png', '/data/ij/Mosaic_data_augmentation_YOLO/images/generated_image_752.png', '/data/ij/Mosaic_data_augmentation_YOLO/images/generated_image_506.png', '/data/ij/Mosaic_data_augmentation_YOLO/images/generated_image_795.png', '/data/ij/Mosaic_data_augmentation_YOLO/images/generated_image_205.png', '/data/ij/Mosaic_data_augmentation_YOLO/images/generated_image_333.png', '/data/ij/Mosaic_data_augmentation_YOLO/images/generated_image_477.png', '/data/ij/Mosaic_data_augmentation_YOLO/images/generated_image_82.png', '/data/ij/Mosaic_data_augmentation_YOLO/images/generated_image_445.png', '/data/ij/Mosaic_data_augmentation_YOLO/images/generated_image_576.png', '/data/ij/Mosaic_data_augmentation_YOLO/images/generated_image_94.png', '/data/ij/Mosaic_data_augmentation_YOLO/images/generated_image_170.png', '/data/ij/Mosaic_data_augmentation_YOLO/images/generated_image_206.png', '/data/ij/Mosaic_data_augmentation_YOLO/images/generated_image_36.png', '/data/ij/Mosaic_data_augmentation_YOLO/images/generated_image_148.png', '/data/ij/Mosaic_data_augmentation_YOLO/images/generated_image_533.png', '/data/ij/Mosaic_data_augmentation_YOLO/images/generated_image_482.png', '/data/ij/Mosaic_data_augmentation_YOLO/images/generated_image_347.png', '/data/ij/Mosaic_data_augmentation_YOLO/images/generated_image_494.png', '/data/ij/Mosaic_data_augmentation_YOLO/images/generated_image_268.png', '/data/ij/Mosaic_data_augmentation_YOLO/images/generated_image_647.png', '/data/ij/Mosaic_data_augmentation_YOLO/images/generated_image_826.png', '/data/ij/Mosaic_data_augmentation_YOLO/images/generated_image_352.png', '/data/ij/Mosaic_data_augmentation_YOLO/images/generated_image_461.png', '/data/ij/Mosaic_data_augmentation_YOLO/images/generated_image_342.png', '/data/ij/Mosaic_data_augmentation_YOLO/images/generated_image_569.png', '/data/ij/Mosaic_data_augmentation_YOLO/images/generated_image_25.png', '/data/ij/Mosaic_data_augmentation_YOLO/images/generated_image_635.png', '/data/ij/Mosaic_data_augmentation_YOLO/images/generated_image_391.png', '/data/ij/Mosaic_data_augmentation_YOLO/images/generated_image_398.png', '/data/ij/Mosaic_data_augmentation_YOLO/images/generated_image_712.png', '/data/ij/Mosaic_data_augmentation_YOLO/images/generated_image_11.png', '/data/ij/Mosaic_data_augmentation_YOLO/images/generated_image_505.png', '/data/ij/Mosaic_data_augmentation_YOLO/images/generated_image_222.png', '/data/ij/Mosaic_data_augmentation_YOLO/images/generated_image_294.png', '/data/ij/Mosaic_data_augmentation_YOLO/images/generated_image_68.png', '/data/ij/Mosaic_data_augmentation_YOLO/images/generated_image_158.png', '/data/ij/Mosaic_data_augmentation_YOLO/images/generated_image_548.png', '/data/ij/Mosaic_data_augmentation_YOLO/images/generated_image_478.png', '/data/ij/Mosaic_data_augmentation_YOLO/images/generated_image_621.png', '/data/ij/Mosaic_data_augmentation_YOLO/images/generated_image_70.png', '/data/ij/Mosaic_data_augmentation_YOLO/images/generated_image_501.png', '/data/ij/Mosaic_data_augmentation_YOLO/images/generated_image_423.png', '/data/ij/Mosaic_data_augmentation_YOLO/images/generated_image_190.png', '/data/ij/Mosaic_data_augmentation_YOLO/images/generated_image_63.png', '/data/ij/Mosaic_data_augmentation_YOLO/images/generated_image_750.png', '/data/ij/Mosaic_data_augmentation_YOLO/images/generated_image_273.png', '/data/ij/Mosaic_data_augmentation_YOLO/images/generated_image_78.png', '/data/ij/Mosaic_data_augmentation_YOLO/images/generated_image_873.png', '/data/ij/Mosaic_data_augmentation_YOLO/images/generated_image_245.png', '/data/ij/Mosaic_data_augmentation_YOLO/images/generated_image_310.png', '/data/ij/Mosaic_data_augmentation_YOLO/images/generated_image_455.png', '/data/ij/Mosaic_data_augmentation_YOLO/images/generated_image_49.png', '/data/ij/Mosaic_data_augmentation_YOLO/images/generated_image_807.png', '/data/ij/Mosaic_data_augmentation_YOLO/images/generated_image_85.png', '/data/ij/Mosaic_data_augmentation_YOLO/images/generated_image_388.png', '/data/ij/Mosaic_data_augmentation_YOLO/images/generated_image_430.png', '/data/ij/Mosaic_data_augmentation_YOLO/images/generated_image_338.png', '/data/ij/Mosaic_data_augmentation_YOLO/images/generated_image_132.png', '/data/ij/Mosaic_data_augmentation_YOLO/images/generated_image_358.png', '/data/ij/Mosaic_data_augmentation_YOLO/images/generated_image_885.png', '/data/ij/Mosaic_data_augmentation_YOLO/images/generated_image_417.png', '/data/ij/Mosaic_data_augmentation_YOLO/images/generated_image_195.png', '/data/ij/Mosaic_data_augmentation_YOLO/images/generated_image_893.png', '/data/ij/Mosaic_data_augmentation_YOLO/images/generated_image_699.png', '/data/ij/Mosaic_data_augmentation_YOLO/images/generated_image_217.png', '/data/ij/Mosaic_data_augmentation_YOLO/images/generated_image_55.png', '/data/ij/Mosaic_data_augmentation_YOLO/images/generated_image_419.png', '/data/ij/Mosaic_data_augmentation_YOLO/images/generated_image_357.png', '/data/ij/Mosaic_data_augmentation_YOLO/images/generated_image_857.png', '/data/ij/Mosaic_data_augmentation_YOLO/images/generated_image_650.png', '/data/ij/Mosaic_data_augmentation_YOLO/images/generated_image_765.png', '/data/ij/Mosaic_data_augmentation_YOLO/images/generated_image_614.png', '/data/ij/Mosaic_data_augmentation_YOLO/images/generated_image_409.png', '/data/ij/Mosaic_data_augmentation_YOLO/images/generated_image_198.png', '/data/ij/Mosaic_data_augmentation_YOLO/images/generated_image_889.png', '/data/ij/Mosaic_data_augmentation_YOLO/images/generated_image_894.png', '/data/ij/Mosaic_data_augmentation_YOLO/images/generated_image_802.png', '/data/ij/Mosaic_data_augmentation_YOLO/images/generated_image_555.png', '/data/ij/Mosaic_data_augmentation_YOLO/images/generated_image_760.png', '/data/ij/Mosaic_data_augmentation_YOLO/images/generated_image_678.png', '/data/ij/Mosaic_data_augmentation_YOLO/images/generated_image_529.png', '/data/ij/Mosaic_data_augmentation_YOLO/images/generated_image_345.png', '/data/ij/Mosaic_data_augmentation_YOLO/images/generated_image_446.png', '/data/ij/Mosaic_data_augmentation_YOLO/images/generated_image_466.png', '/data/ij/Mosaic_data_augmentation_YOLO/images/generated_image_716.png', '/data/ij/Mosaic_data_augmentation_YOLO/images/generated_image_767.png', '/data/ij/Mosaic_data_augmentation_YOLO/images/generated_image_411.png', '/data/ij/Mosaic_data_augmentation_YOLO/images/generated_image_696.png', '/data/ij/Mosaic_data_augmentation_YOLO/images/generated_image_157.png', '/data/ij/Mosaic_data_augmentation_YOLO/images/generated_image_326.png', '/data/ij/Mosaic_data_augmentation_YOLO/images/generated_image_177.png', '/data/ij/Mosaic_data_augmentation_YOLO/images/generated_image_252.png', '/data/ij/Mosaic_data_augmentation_YOLO/images/generated_image_766.png', '/data/ij/Mosaic_data_augmentation_YOLO/images/generated_image_32.png', '/data/ij/Mosaic_data_augmentation_YOLO/images/generated_image_424.png', '/data/ij/Mosaic_data_augmentation_YOLO/images/generated_image_321.png', '/data/ij/Mosaic_data_augmentation_YOLO/images/generated_image_838.png', '/data/ij/Mosaic_data_augmentation_YOLO/images/generated_image_812.png', '/data/ij/Mosaic_data_augmentation_YOLO/images/generated_image_654.png', '/data/ij/Mosaic_data_augmentation_YOLO/images/generated_image_584.png', '/data/ij/Mosaic_data_augmentation_YOLO/images/generated_image_405.png', '/data/ij/Mosaic_data_augmentation_YOLO/images/generated_image_687.png', '/data/ij/Mosaic_data_augmentation_YOLO/images/generated_image_425.png', '/data/ij/Mosaic_data_augmentation_YOLO/images/generated_image_53.png', '/data/ij/Mosaic_data_augmentation_YOLO/images/generated_image_436.png', '/data/ij/Mosaic_data_augmentation_YOLO/images/generated_image_526.png', '/data/ij/Mosaic_data_augmentation_YOLO/images/generated_image_407.png', '/data/ij/Mosaic_data_augmentation_YOLO/images/generated_image_328.png', '/data/ij/Mosaic_data_augmentation_YOLO/images/generated_image_648.png', '/data/ij/Mosaic_data_augmentation_YOLO/images/generated_image_551.png', '/data/ij/Mosaic_data_augmentation_YOLO/images/generated_image_757.png', '/data/ij/Mosaic_data_augmentation_YOLO/images/generated_image_418.png', '/data/ij/Mosaic_data_augmentation_YOLO/images/generated_image_485.png', '/data/ij/Mosaic_data_augmentation_YOLO/images/generated_image_182.png', '/data/ij/Mosaic_data_augmentation_YOLO/images/generated_image_617.png', '/data/ij/Mosaic_data_augmentation_YOLO/images/generated_image_335.png', '/data/ij/Mosaic_data_augmentation_YOLO/images/generated_image_725.png', '/data/ij/Mosaic_data_augmentation_YOLO/images/generated_image_216.png', '/data/ij/Mosaic_data_augmentation_YOLO/images/generated_image_33.png', '/data/ij/Mosaic_data_augmentation_YOLO/images/generated_image_42.png', '/data/ij/Mosaic_data_augmentation_YOLO/images/generated_image_312.png', '/data/ij/Mosaic_data_augmentation_YOLO/images/generated_image_344.png', '/data/ij/Mosaic_data_augmentation_YOLO/images/generated_image_785.png', '/data/ij/Mosaic_data_augmentation_YOLO/images/generated_image_380.png', '/data/ij/Mosaic_data_augmentation_YOLO/images/generated_image_880.png', '/data/ij/Mosaic_data_augmentation_YOLO/images/generated_image_60.png', '/data/ij/Mosaic_data_augmentation_YOLO/images/generated_image_323.png', '/data/ij/Mosaic_data_augmentation_YOLO/images/generated_image_762.png', '/data/ij/Mosaic_data_augmentation_YOLO/images/generated_image_632.png', '/data/ij/Mosaic_data_augmentation_YOLO/images/generated_image_513.png', '/data/ij/Mosaic_data_augmentation_YOLO/images/generated_image_644.png', '/data/ij/Mosaic_data_augmentation_YOLO/images/generated_image_189.png', '/data/ij/Mosaic_data_augmentation_YOLO/images/generated_image_747.png', '/data/ij/Mosaic_data_augmentation_YOLO/images/generated_image_578.png', '/data/ij/Mosaic_data_augmentation_YOLO/images/generated_image_59.png', '/data/ij/Mosaic_data_augmentation_YOLO/images/generated_image_581.png', '/data/ij/Mosaic_data_augmentation_YOLO/images/generated_image_737.png', '/data/ij/Mosaic_data_augmentation_YOLO/images/generated_image_374.png', '/data/ij/Mosaic_data_augmentation_YOLO/images/generated_image_475.png', '/data/ij/Mosaic_data_augmentation_YOLO/images/generated_image_550.png', '/data/ij/Mosaic_data_augmentation_YOLO/images/generated_image_703.png', '/data/ij/Mosaic_data_augmentation_YOLO/images/generated_image_599.png', '/data/ij/Mosaic_data_augmentation_YOLO/images/generated_image_267.png', '/data/ij/Mosaic_data_augmentation_YOLO/images/generated_image_168.png', '/data/ij/Mosaic_data_augmentation_YOLO/images/generated_image_860.png', '/data/ij/Mosaic_data_augmentation_YOLO/images/generated_image_152.png', '/data/ij/Mosaic_data_augmentation_YOLO/images/generated_image_31.png', '/data/ij/Mosaic_data_augmentation_YOLO/images/generated_image_117.png', '/data/ij/Mosaic_data_augmentation_YOLO/images/generated_image_140.png', '/data/ij/Mosaic_data_augmentation_YOLO/images/generated_image_878.png', '/data/ij/Mosaic_data_augmentation_YOLO/images/generated_image_783.png', '/data/ij/Mosaic_data_augmentation_YOLO/images/generated_image_898.png', '/data/ij/Mosaic_data_augmentation_YOLO/images/generated_image_428.png', '/data/ij/Mosaic_data_augmentation_YOLO/images/generated_image_845.png', '/data/ij/Mosaic_data_augmentation_YOLO/images/generated_image_28.png', '/data/ij/Mosaic_data_augmentation_YOLO/images/generated_image_888.png', '/data/ij/Mosaic_data_augmentation_YOLO/images/generated_image_350.png', '/data/ij/Mosaic_data_augmentation_YOLO/images/generated_image_670.png', '/data/ij/Mosaic_data_augmentation_YOLO/images/generated_image_48.png', '/data/ij/Mosaic_data_augmentation_YOLO/images/generated_image_318.png', '/data/ij/Mosaic_data_augmentation_YOLO/images/generated_image_511.png', '/data/ij/Mosaic_data_augmentation_YOLO/images/generated_image_744.png', '/data/ij/Mosaic_data_augmentation_YOLO/images/generated_image_72.png', '/data/ij/Mosaic_data_augmentation_YOLO/images/generated_image_141.png', '/data/ij/Mosaic_data_augmentation_YOLO/images/generated_image_142.png', '/data/ij/Mosaic_data_augmentation_YOLO/images/generated_image_527.png', '/data/ij/Mosaic_data_augmentation_YOLO/images/generated_image_119.png', '/data/ij/Mosaic_data_augmentation_YOLO/images/generated_image_151.png', '/data/ij/Mosaic_data_augmentation_YOLO/images/generated_image_504.png', '/data/ij/Mosaic_data_augmentation_YOLO/images/generated_image_451.png', '/data/ij/Mosaic_data_augmentation_YOLO/images/generated_image_606.png', '/data/ij/Mosaic_data_augmentation_YOLO/images/generated_image_729.png', '/data/ij/Mosaic_data_augmentation_YOLO/images/generated_image_91.png', '/data/ij/Mosaic_data_augmentation_YOLO/images/generated_image_590.png', '/data/ij/Mosaic_data_augmentation_YOLO/images/generated_image_69.png', '/data/ij/Mosaic_data_augmentation_YOLO/images/generated_image_479.png', '/data/ij/Mosaic_data_augmentation_YOLO/images/generated_image_43.png', '/data/ij/Mosaic_data_augmentation_YOLO/images/generated_image_449.png', '/data/ij/Mosaic_data_augmentation_YOLO/images/generated_image_88.png', '/data/ij/Mosaic_data_augmentation_YOLO/images/generated_image_701.png', '/data/ij/Mosaic_data_augmentation_YOLO/images/generated_image_503.png', '/data/ij/Mosaic_data_augmentation_YOLO/images/generated_image_228.png', '/data/ij/Mosaic_data_augmentation_YOLO/images/generated_image_820.png', '/data/ij/Mosaic_data_augmentation_YOLO/images/generated_image_886.png', '/data/ij/Mosaic_data_augmentation_YOLO/images/generated_image_10.png', '/data/ij/Mosaic_data_augmentation_YOLO/images/generated_image_660.png', '/data/ij/Mosaic_data_augmentation_YOLO/images/generated_image_282.png', '/data/ij/Mosaic_data_augmentation_YOLO/images/generated_image_8.png', '/data/ij/Mosaic_data_augmentation_YOLO/images/generated_image_510.png', '/data/ij/Mosaic_data_augmentation_YOLO/images/generated_image_385.png', '/data/ij/Mosaic_data_augmentation_YOLO/images/generated_image_874.png', '/data/ij/Mosaic_data_augmentation_YOLO/images/generated_image_397.png', '/data/ij/Mosaic_data_augmentation_YOLO/images/generated_image_235.png', '/data/ij/Mosaic_data_augmentation_YOLO/images/generated_image_4.png', '/data/ij/Mosaic_data_augmentation_YOLO/images/generated_image_0.png', '/data/ij/Mosaic_data_augmentation_YOLO/images/generated_image_575.png', '/data/ij/Mosaic_data_augmentation_YOLO/images/generated_image_789.png', '/data/ij/Mosaic_data_augmentation_YOLO/images/generated_image_24.png', '/data/ij/Mosaic_data_augmentation_YOLO/images/generated_image_689.png', '/data/ij/Mosaic_data_augmentation_YOLO/images/generated_image_538.png', '/data/ij/Mosaic_data_augmentation_YOLO/images/generated_image_685.png', '/data/ij/Mosaic_data_augmentation_YOLO/images/generated_image_577.png', '/data/ij/Mosaic_data_augmentation_YOLO/images/generated_image_115.png', '/data/ij/Mosaic_data_augmentation_YOLO/images/generated_image_825.png', '/data/ij/Mosaic_data_augmentation_YOLO/images/generated_image_456.png', '/data/ij/Mosaic_data_augmentation_YOLO/images/generated_image_615.png', '/data/ij/Mosaic_data_augmentation_YOLO/images/generated_image_781.png', '/data/ij/Mosaic_data_augmentation_YOLO/images/generated_image_602.png', '/data/ij/Mosaic_data_augmentation_YOLO/images/generated_image_113.png', '/data/ij/Mosaic_data_augmentation_YOLO/images/generated_image_382.png', '/data/ij/Mosaic_data_augmentation_YOLO/images/generated_image_571.png', '/data/ij/Mosaic_data_augmentation_YOLO/images/generated_image_604.png', '/data/ij/Mosaic_data_augmentation_YOLO/images/generated_image_798.png', '/data/ij/Mosaic_data_augmentation_YOLO/images/generated_image_120.png', '/data/ij/Mosaic_data_augmentation_YOLO/images/generated_image_266.png', '/data/ij/Mosaic_data_augmentation_YOLO/images/generated_image_191.png', '/data/ij/Mosaic_data_augmentation_YOLO/images/generated_image_414.png', '/data/ij/Mosaic_data_augmentation_YOLO/images/generated_image_753.png', '/data/ij/Mosaic_data_augmentation_YOLO/images/generated_image_852.png', '/data/ij/Mosaic_data_augmentation_YOLO/images/generated_image_679.png', '/data/ij/Mosaic_data_augmentation_YOLO/images/generated_image_458.png', '/data/ij/Mosaic_data_augmentation_YOLO/images/generated_image_331.png', '/data/ij/Mosaic_data_augmentation_YOLO/images/generated_image_462.png', '/data/ij/Mosaic_data_augmentation_YOLO/images/generated_image_246.png', '/data/ij/Mosaic_data_augmentation_YOLO/images/generated_image_95.png', '/data/ij/Mosaic_data_augmentation_YOLO/images/generated_image_746.png', '/data/ij/Mosaic_data_augmentation_YOLO/images/generated_image_66.png', '/data/ij/Mosaic_data_augmentation_YOLO/images/generated_image_656.png', '/data/ij/Mosaic_data_augmentation_YOLO/images/generated_image_693.png', '/data/ij/Mosaic_data_augmentation_YOLO/images/generated_image_731.png', '/data/ij/Mosaic_data_augmentation_YOLO/images/generated_image_278.png', '/data/ij/Mosaic_data_augmentation_YOLO/images/generated_image_396.png', '/data/ij/Mosaic_data_augmentation_YOLO/images/generated_image_183.png', '/data/ij/Mosaic_data_augmentation_YOLO/images/generated_image_695.png', '/data/ij/Mosaic_data_augmentation_YOLO/images/generated_image_256.png', '/data/ij/Mosaic_data_augmentation_YOLO/images/generated_image_797.png', '/data/ij/Mosaic_data_augmentation_YOLO/images/generated_image_663.png', '/data/ij/Mosaic_data_augmentation_YOLO/images/generated_image_54.png', '/data/ij/Mosaic_data_augmentation_YOLO/images/generated_image_502.png', '/data/ij/Mosaic_data_augmentation_YOLO/images/generated_image_612.png', '/data/ij/Mosaic_data_augmentation_YOLO/images/generated_image_250.png', '/data/ij/Mosaic_data_augmentation_YOLO/images/generated_image_640.png', '/data/ij/Mosaic_data_augmentation_YOLO/images/generated_image_270.png', '/data/ij/Mosaic_data_augmentation_YOLO/images/generated_image_384.png', '/data/ij/Mosaic_data_augmentation_YOLO/images/generated_image_192.png', '/data/ij/Mosaic_data_augmentation_YOLO/images/generated_image_229.png', '/data/ij/Mosaic_data_augmentation_YOLO/images/generated_image_496.png', '/data/ij/Mosaic_data_augmentation_YOLO/images/generated_image_727.png', '/data/ij/Mosaic_data_augmentation_YOLO/images/generated_image_805.png', '/data/ij/Mosaic_data_augmentation_YOLO/images/generated_image_271.png', '/data/ij/Mosaic_data_augmentation_YOLO/images/generated_image_868.png', '/data/ij/Mosaic_data_augmentation_YOLO/images/generated_image_432.png', '/data/ij/Mosaic_data_augmentation_YOLO/images/generated_image_404.png', '/data/ij/Mosaic_data_augmentation_YOLO/images/generated_image_547.png', '/data/ij/Mosaic_data_augmentation_YOLO/images/generated_image_570.png', '/data/ij/Mosaic_data_augmentation_YOLO/images/generated_image_176.png', '/data/ij/Mosaic_data_augmentation_YOLO/images/generated_image_830.png', '/data/ij/Mosaic_data_augmentation_YOLO/images/generated_image_887.png', '/data/ij/Mosaic_data_augmentation_YOLO/images/generated_image_155.png', '/data/ij/Mosaic_data_augmentation_YOLO/images/generated_image_871.png', '/data/ij/Mosaic_data_augmentation_YOLO/images/generated_image_370.png', '/data/ij/Mosaic_data_augmentation_YOLO/images/generated_image_671.png', '/data/ij/Mosaic_data_augmentation_YOLO/images/generated_image_722.png', '/data/ij/Mosaic_data_augmentation_YOLO/images/generated_image_50.png', '/data/ij/Mosaic_data_augmentation_YOLO/images/generated_image_848.png', '/data/ij/Mosaic_data_augmentation_YOLO/images/generated_image_733.png', '/data/ij/Mosaic_data_augmentation_YOLO/images/generated_image_224.png', '/data/ij/Mosaic_data_augmentation_YOLO/images/generated_image_585.png', '/data/ij/Mosaic_data_augmentation_YOLO/images/generated_image_369.png', '/data/ij/Mosaic_data_augmentation_YOLO/images/generated_image_543.png', '/data/ij/Mosaic_data_augmentation_YOLO/images/generated_image_211.png', '/data/ij/Mosaic_data_augmentation_YOLO/images/generated_image_314.png', '/data/ij/Mosaic_data_augmentation_YOLO/images/generated_image_691.png', '/data/ij/Mosaic_data_augmentation_YOLO/images/generated_image_672.png', '/data/ij/Mosaic_data_augmentation_YOLO/images/generated_image_900.png', '/data/ij/Mosaic_data_augmentation_YOLO/images/generated_image_669.png', '/data/ij/Mosaic_data_augmentation_YOLO/images/generated_image_307.png', '/data/ij/Mosaic_data_augmentation_YOLO/images/generated_image_118.png', '/data/ij/Mosaic_data_augmentation_YOLO/images/generated_image_849.png', '/data/ij/Mosaic_data_augmentation_YOLO/images/generated_image_311.png', '/data/ij/Mosaic_data_augmentation_YOLO/images/generated_image_401.png', '/data/ij/Mosaic_data_augmentation_YOLO/images/generated_image_203.png', '/data/ij/Mosaic_data_augmentation_YOLO/images/generated_image_625.png', '/data/ij/Mosaic_data_augmentation_YOLO/images/generated_image_116.png', '/data/ij/Mosaic_data_augmentation_YOLO/images/generated_image_743.png', '/data/ij/Mosaic_data_augmentation_YOLO/images/generated_image_146.png', '/data/ij/Mosaic_data_augmentation_YOLO/images/generated_image_360.png', '/data/ij/Mosaic_data_augmentation_YOLO/images/generated_image_372.png', '/data/ij/Mosaic_data_augmentation_YOLO/images/generated_image_361.png', '/data/ij/Mosaic_data_augmentation_YOLO/images/generated_image_45.png', '/data/ij/Mosaic_data_augmentation_YOLO/images/generated_image_476.png', '/data/ij/Mosaic_data_augmentation_YOLO/images/generated_image_653.png', '/data/ij/Mosaic_data_augmentation_YOLO/images/generated_image_306.png', '/data/ij/Mosaic_data_augmentation_YOLO/images/generated_image_126.png', '/data/ij/Mosaic_data_augmentation_YOLO/images/generated_image_121.png', '/data/ij/Mosaic_data_augmentation_YOLO/images/generated_image_47.png', '/data/ij/Mosaic_data_augmentation_YOLO/images/generated_image_248.png', '/data/ij/Mosaic_data_augmentation_YOLO/images/generated_image_81.png', '/data/ij/Mosaic_data_augmentation_YOLO/images/generated_image_463.png', '/data/ij/Mosaic_data_augmentation_YOLO/images/generated_image_389.png', '/data/ij/Mosaic_data_augmentation_YOLO/images/generated_image_464.png', '/data/ij/Mosaic_data_augmentation_YOLO/images/generated_image_238.png', '/data/ij/Mosaic_data_augmentation_YOLO/images/generated_image_13.png', '/data/ij/Mosaic_data_augmentation_YOLO/images/generated_image_64.png', '/data/ij/Mosaic_data_augmentation_YOLO/images/generated_image_688.png', '/data/ij/Mosaic_data_augmentation_YOLO/images/generated_image_166.png', '/data/ij/Mosaic_data_augmentation_YOLO/images/generated_image_351.png', '/data/ij/Mosaic_data_augmentation_YOLO/images/generated_image_655.png', '/data/ij/Mosaic_data_augmentation_YOLO/images/generated_image_835.png', '/data/ij/Mosaic_data_augmentation_YOLO/images/generated_image_156.png', '/data/ij/Mosaic_data_augmentation_YOLO/images/generated_image_686.png', '/data/ij/Mosaic_data_augmentation_YOLO/images/generated_image_682.png', '/data/ij/Mosaic_data_augmentation_YOLO/images/generated_image_719.png', '/data/ij/Mosaic_data_augmentation_YOLO/images/generated_image_130.png', '/data/ij/Mosaic_data_augmentation_YOLO/images/generated_image_545.png', '/data/ij/Mosaic_data_augmentation_YOLO/images/generated_image_702.png', '/data/ij/Mosaic_data_augmentation_YOLO/images/generated_image_422.png', '/data/ij/Mosaic_data_augmentation_YOLO/images/generated_image_709.png', '/data/ij/Mosaic_data_augmentation_YOLO/images/generated_image_856.png', '/data/ij/Mosaic_data_augmentation_YOLO/images/generated_image_379.png', '/data/ij/Mosaic_data_augmentation_YOLO/images/generated_image_901.png', '/data/ij/Mosaic_data_augmentation_YOLO/images/generated_image_61.png', '/data/ij/Mosaic_data_augmentation_YOLO/images/generated_image_99.png', '/data/ij/Mosaic_data_augmentation_YOLO/images/generated_image_100.png', '/data/ij/Mosaic_data_augmentation_YOLO/images/generated_image_89.png', '/data/ij/Mosaic_data_augmentation_YOLO/images/generated_image_831.png', '/data/ij/Mosaic_data_augmentation_YOLO/images/generated_image_453.png', '/data/ij/Mosaic_data_augmentation_YOLO/images/generated_image_395.png', '/data/ij/Mosaic_data_augmentation_YOLO/images/generated_image_18.png', '/data/ij/Mosaic_data_augmentation_YOLO/images/generated_image_601.png', '/data/ij/Mosaic_data_augmentation_YOLO/images/generated_image_356.png', '/data/ij/Mosaic_data_augmentation_YOLO/images/generated_image_735.png', '/data/ij/Mosaic_data_augmentation_YOLO/images/generated_image_738.png', '/data/ij/Mosaic_data_augmentation_YOLO/images/generated_image_406.png', '/data/ij/Mosaic_data_augmentation_YOLO/images/generated_image_633.png', '/data/ij/Mosaic_data_augmentation_YOLO/images/generated_image_105.png', '/data/ij/Mosaic_data_augmentation_YOLO/images/generated_image_186.png', '/data/ij/Mosaic_data_augmentation_YOLO/images/generated_image_799.png', '/data/ij/Mosaic_data_augmentation_YOLO/images/generated_image_605.png', '/data/ij/Mosaic_data_augmentation_YOLO/images/generated_image_437.png', '/data/ij/Mosaic_data_augmentation_YOLO/images/generated_image_794.png', '/data/ij/Mosaic_data_augmentation_YOLO/images/generated_image_728.png', '/data/ij/Mosaic_data_augmentation_YOLO/images/generated_image_368.png', '/data/ij/Mosaic_data_augmentation_YOLO/images/generated_image_546.png', '/data/ij/Mosaic_data_augmentation_YOLO/images/generated_image_866.png', '/data/ij/Mosaic_data_augmentation_YOLO/images/generated_image_587.png', '/data/ij/Mosaic_data_augmentation_YOLO/images/generated_image_500.png', '/data/ij/Mosaic_data_augmentation_YOLO/images/generated_image_237.png', '/data/ij/Mosaic_data_augmentation_YOLO/images/generated_image_580.png', '/data/ij/Mosaic_data_augmentation_YOLO/images/generated_image_756.png', '/data/ij/Mosaic_data_augmentation_YOLO/images/generated_image_620.png', '/data/ij/Mosaic_data_augmentation_YOLO/images/generated_image_2.png', '/data/ij/Mosaic_data_augmentation_YOLO/images/generated_image_363.png', '/data/ij/Mosaic_data_augmentation_YOLO/images/generated_image_516.png', '/data/ij/Mosaic_data_augmentation_YOLO/images/generated_image_289.png', '/data/ij/Mosaic_data_augmentation_YOLO/images/generated_image_892.png', '/data/ij/Mosaic_data_augmentation_YOLO/images/generated_image_674.png', '/data/ij/Mosaic_data_augmentation_YOLO/images/generated_image_883.png', '/data/ij/Mosaic_data_augmentation_YOLO/images/generated_image_243.png', '/data/ij/Mosaic_data_augmentation_YOLO/images/generated_image_881.png', '/data/ij/Mosaic_data_augmentation_YOLO/images/generated_image_525.png', '/data/ij/Mosaic_data_augmentation_YOLO/images/generated_image_46.png', '/data/ij/Mosaic_data_augmentation_YOLO/images/generated_image_302.png', '/data/ij/Mosaic_data_augmentation_YOLO/images/generated_image_309.png', '/data/ij/Mosaic_data_augmentation_YOLO/images/generated_image_770.png', '/data/ij/Mosaic_data_augmentation_YOLO/images/generated_image_450.png', '/data/ij/Mosaic_data_augmentation_YOLO/images/generated_image_239.png', '/data/ij/Mosaic_data_augmentation_YOLO/images/generated_image_175.png', '/data/ij/Mosaic_data_augmentation_YOLO/images/generated_image_97.png', '/data/ij/Mosaic_data_augmentation_YOLO/images/generated_image_816.png', '/data/ij/Mosaic_data_augmentation_YOLO/images/generated_image_723.png', '/data/ij/Mosaic_data_augmentation_YOLO/images/generated_image_285.png', '/data/ij/Mosaic_data_augmentation_YOLO/images/generated_image_769.png', '/data/ij/Mosaic_data_augmentation_YOLO/images/generated_image_700.png', '/data/ij/Mosaic_data_augmentation_YOLO/images/generated_image_806.png', '/data/ij/Mosaic_data_augmentation_YOLO/images/generated_image_519.png', '/data/ij/Mosaic_data_augmentation_YOLO/images/generated_image_603.png', '/data/ij/Mosaic_data_augmentation_YOLO/images/generated_image_128.png', '/data/ij/Mosaic_data_augmentation_YOLO/images/generated_image_208.png', '/data/ij/Mosaic_data_augmentation_YOLO/images/generated_image_666.png', '/data/ij/Mosaic_data_augmentation_YOLO/images/generated_image_227.png', '/data/ij/Mosaic_data_augmentation_YOLO/images/generated_image_630.png', '/data/ij/Mosaic_data_augmentation_YOLO/images/generated_image_588.png', '/data/ij/Mosaic_data_augmentation_YOLO/images/generated_image_444.png', '/data/ij/Mosaic_data_augmentation_YOLO/images/generated_image_218.png', '/data/ij/Mosaic_data_augmentation_YOLO/images/generated_image_440.png', '/data/ij/Mosaic_data_augmentation_YOLO/images/generated_image_879.png', '/data/ij/Mosaic_data_augmentation_YOLO/images/generated_image_163.png', '/data/ij/Mosaic_data_augmentation_YOLO/images/generated_image_808.png', '/data/ij/Mosaic_data_augmentation_YOLO/images/generated_image_673.png', '/data/ij/Mosaic_data_augmentation_YOLO/images/generated_image_164.png', '/data/ij/Mosaic_data_augmentation_YOLO/images/generated_image_904.png', '/data/ij/Mosaic_data_augmentation_YOLO/images/generated_image_554.png', '/data/ij/Mosaic_data_augmentation_YOLO/images/generated_image_184.png', '/data/ij/Mosaic_data_augmentation_YOLO/images/generated_image_353.png', '/data/ij/Mosaic_data_augmentation_YOLO/images/generated_image_281.png', '/data/ij/Mosaic_data_augmentation_YOLO/images/generated_image_683.png', '/data/ij/Mosaic_data_augmentation_YOLO/images/generated_image_14.png', '/data/ij/Mosaic_data_augmentation_YOLO/images/generated_image_813.png', '/data/ij/Mosaic_data_augmentation_YOLO/images/generated_image_153.png', '/data/ij/Mosaic_data_augmentation_YOLO/images/generated_image_810.png', '/data/ij/Mosaic_data_augmentation_YOLO/images/generated_image_316.png', '/data/ij/Mosaic_data_augmentation_YOLO/images/generated_image_92.png', '/data/ij/Mosaic_data_augmentation_YOLO/images/generated_image_755.png', '/data/ij/Mosaic_data_augmentation_YOLO/images/generated_image_875.png', '/data/ij/Mosaic_data_augmentation_YOLO/images/generated_image_234.png', '/data/ij/Mosaic_data_augmentation_YOLO/images/generated_image_329.png', '/data/ij/Mosaic_data_augmentation_YOLO/images/generated_image_34.png', '/data/ij/Mosaic_data_augmentation_YOLO/images/generated_image_634.png', '/data/ij/Mosaic_data_augmentation_YOLO/images/generated_image_520.png', '/data/ij/Mosaic_data_augmentation_YOLO/images/generated_image_698.png', '/data/ij/Mosaic_data_augmentation_YOLO/images/generated_image_371.png', '/data/ij/Mosaic_data_augmentation_YOLO/images/generated_image_159.png', '/data/ij/Mosaic_data_augmentation_YOLO/images/generated_image_37.png', '/data/ij/Mosaic_data_augmentation_YOLO/images/generated_image_138.png', '/data/ij/Mosaic_data_augmentation_YOLO/images/generated_image_162.png', '/data/ij/Mosaic_data_augmentation_YOLO/images/generated_image_843.png', '/data/ij/Mosaic_data_augmentation_YOLO/images/generated_image_652.png', '/data/ij/Mosaic_data_augmentation_YOLO/images/generated_image_499.png', '/data/ij/Mosaic_data_augmentation_YOLO/images/generated_image_531.png', '/data/ij/Mosaic_data_augmentation_YOLO/images/generated_image_337.png', '/data/ij/Mosaic_data_augmentation_YOLO/images/generated_image_532.png', '/data/ij/Mosaic_data_augmentation_YOLO/images/generated_image_173.png', '/data/ij/Mosaic_data_augmentation_YOLO/images/generated_image_40.png', '/data/ij/Mosaic_data_augmentation_YOLO/images/generated_image_552.png', '/data/ij/Mosaic_data_augmentation_YOLO/images/generated_image_646.png', '/data/ij/Mosaic_data_augmentation_YOLO/images/generated_image_721.png', '/data/ij/Mosaic_data_augmentation_YOLO/images/generated_image_244.png', '/data/ij/Mosaic_data_augmentation_YOLO/images/generated_image_399.png', '/data/ij/Mosaic_data_augmentation_YOLO/images/generated_image_474.png', '/data/ij/Mosaic_data_augmentation_YOLO/images/generated_image_836.png', '/data/ij/Mosaic_data_augmentation_YOLO/images/generated_image_400.png', '/data/ij/Mosaic_data_augmentation_YOLO/images/generated_image_108.png', '/data/ij/Mosaic_data_augmentation_YOLO/images/generated_image_834.png', '/data/ij/Mosaic_data_augmentation_YOLO/images/generated_image_658.png']\n",
      "label_files : ['/data/ij/Mosaic_data_augmentation_YOLO/labels/generated_image_573.txt', '/data/ij/Mosaic_data_augmentation_YOLO/labels/generated_image_817.txt', '/data/ij/Mosaic_data_augmentation_YOLO/labels/generated_image_287.txt', '/data/ij/Mosaic_data_augmentation_YOLO/labels/generated_image_592.txt', '/data/ij/Mosaic_data_augmentation_YOLO/labels/generated_image_62.txt', '/data/ij/Mosaic_data_augmentation_YOLO/labels/generated_image_541.txt', '/data/ij/Mosaic_data_augmentation_YOLO/labels/generated_image_393.txt', '/data/ij/Mosaic_data_augmentation_YOLO/labels/generated_image_521.txt', '/data/ij/Mosaic_data_augmentation_YOLO/labels/generated_image_803.txt', '/data/ij/Mosaic_data_augmentation_YOLO/labels/generated_image_559.txt', '/data/ij/Mosaic_data_augmentation_YOLO/labels/generated_image_566.txt', '/data/ij/Mosaic_data_augmentation_YOLO/labels/generated_image_127.txt', '/data/ij/Mosaic_data_augmentation_YOLO/labels/generated_image_530.txt', '/data/ij/Mosaic_data_augmentation_YOLO/labels/generated_image_872.txt', '/data/ij/Mosaic_data_augmentation_YOLO/labels/generated_image_280.txt', '/data/ij/Mosaic_data_augmentation_YOLO/labels/generated_image_597.txt', '/data/ij/Mosaic_data_augmentation_YOLO/labels/generated_image_694.txt', '/data/ij/Mosaic_data_augmentation_YOLO/labels/generated_image_708.txt', '/data/ij/Mosaic_data_augmentation_YOLO/labels/generated_image_442.txt', '/data/ij/Mosaic_data_augmentation_YOLO/labels/generated_image_739.txt', '/data/ij/Mosaic_data_augmentation_YOLO/labels/generated_image_319.txt', '/data/ij/Mosaic_data_augmentation_YOLO/labels/generated_image_136.txt', '/data/ij/Mosaic_data_augmentation_YOLO/labels/generated_image_434.txt', '/data/ij/Mosaic_data_augmentation_YOLO/labels/generated_image_876.txt', '/data/ij/Mosaic_data_augmentation_YOLO/labels/generated_image_185.txt', '/data/ij/Mosaic_data_augmentation_YOLO/labels/generated_image_469.txt', '/data/ij/Mosaic_data_augmentation_YOLO/labels/generated_image_773.txt', '/data/ij/Mosaic_data_augmentation_YOLO/labels/generated_image_264.txt', '/data/ij/Mosaic_data_augmentation_YOLO/labels/generated_image_433.txt', '/data/ij/Mosaic_data_augmentation_YOLO/labels/generated_image_556.txt', '/data/ij/Mosaic_data_augmentation_YOLO/labels/generated_image_568.txt', '/data/ij/Mosaic_data_augmentation_YOLO/labels/generated_image_740.txt', '/data/ij/Mosaic_data_augmentation_YOLO/labels/generated_image_295.txt', '/data/ij/Mosaic_data_augmentation_YOLO/labels/generated_image_377.txt', '/data/ij/Mosaic_data_augmentation_YOLO/labels/generated_image_899.txt', '/data/ij/Mosaic_data_augmentation_YOLO/labels/generated_image_611.txt', '/data/ij/Mosaic_data_augmentation_YOLO/labels/generated_image_627.txt', '/data/ij/Mosaic_data_augmentation_YOLO/labels/generated_image_745.txt', '/data/ij/Mosaic_data_augmentation_YOLO/labels/generated_image_330.txt', '/data/ij/Mosaic_data_augmentation_YOLO/labels/generated_image_804.txt', '/data/ij/Mosaic_data_augmentation_YOLO/labels/generated_image_549.txt', '/data/ij/Mosaic_data_augmentation_YOLO/labels/generated_image_402.txt', '/data/ij/Mosaic_data_augmentation_YOLO/labels/generated_image_144.txt', '/data/ij/Mosaic_data_augmentation_YOLO/labels/generated_image_1.txt', '/data/ij/Mosaic_data_augmentation_YOLO/labels/generated_image_378.txt', '/data/ij/Mosaic_data_augmentation_YOLO/labels/generated_image_429.txt', '/data/ij/Mosaic_data_augmentation_YOLO/labels/generated_image_366.txt', '/data/ij/Mosaic_data_augmentation_YOLO/labels/generated_image_561.txt', '/data/ij/Mosaic_data_augmentation_YOLO/labels/generated_image_21.txt', '/data/ij/Mosaic_data_augmentation_YOLO/labels/generated_image_51.txt', '/data/ij/Mosaic_data_augmentation_YOLO/labels/generated_image_254.txt', '/data/ij/Mosaic_data_augmentation_YOLO/labels/generated_image_448.txt', '/data/ij/Mosaic_data_augmentation_YOLO/labels/generated_image_431.txt', '/data/ij/Mosaic_data_augmentation_YOLO/labels/generated_image_3.txt', '/data/ij/Mosaic_data_augmentation_YOLO/labels/generated_image_443.txt', '/data/ij/Mosaic_data_augmentation_YOLO/labels/generated_image_188.txt', '/data/ij/Mosaic_data_augmentation_YOLO/labels/generated_image_106.txt', '/data/ij/Mosaic_data_augmentation_YOLO/labels/generated_image_676.txt', '/data/ij/Mosaic_data_augmentation_YOLO/labels/generated_image_167.txt', '/data/ij/Mosaic_data_augmentation_YOLO/labels/generated_image_242.txt', '/data/ij/Mosaic_data_augmentation_YOLO/labels/generated_image_759.txt', '/data/ij/Mosaic_data_augmentation_YOLO/labels/generated_image_84.txt', '/data/ij/Mosaic_data_augmentation_YOLO/labels/generated_image_231.txt', '/data/ij/Mosaic_data_augmentation_YOLO/labels/generated_image_613.txt', '/data/ij/Mosaic_data_augmentation_YOLO/labels/generated_image_844.txt', '/data/ij/Mosaic_data_augmentation_YOLO/labels/generated_image_305.txt', '/data/ij/Mosaic_data_augmentation_YOLO/labels/generated_image_220.txt', '/data/ij/Mosaic_data_augmentation_YOLO/labels/generated_image_512.txt', '/data/ij/Mosaic_data_augmentation_YOLO/labels/generated_image_594.txt', '/data/ij/Mosaic_data_augmentation_YOLO/labels/generated_image_240.txt', '/data/ij/Mosaic_data_augmentation_YOLO/labels/generated_image_262.txt', '/data/ij/Mosaic_data_augmentation_YOLO/labels/generated_image_822.txt', '/data/ij/Mosaic_data_augmentation_YOLO/labels/generated_image_854.txt', '/data/ij/Mosaic_data_augmentation_YOLO/labels/generated_image_76.txt', '/data/ij/Mosaic_data_augmentation_YOLO/labels/generated_image_638.txt', '/data/ij/Mosaic_data_augmentation_YOLO/labels/generated_image_690.txt', '/data/ij/Mosaic_data_augmentation_YOLO/labels/generated_image_421.txt', '/data/ij/Mosaic_data_augmentation_YOLO/labels/generated_image_811.txt', '/data/ij/Mosaic_data_augmentation_YOLO/labels/generated_image_174.txt', '/data/ij/Mosaic_data_augmentation_YOLO/labels/generated_image_197.txt', '/data/ij/Mosaic_data_augmentation_YOLO/labels/generated_image_772.txt', '/data/ij/Mosaic_data_augmentation_YOLO/labels/generated_image_322.txt', '/data/ij/Mosaic_data_augmentation_YOLO/labels/generated_image_837.txt', '/data/ij/Mosaic_data_augmentation_YOLO/labels/generated_image_726.txt', '/data/ij/Mosaic_data_augmentation_YOLO/labels/generated_image_508.txt', '/data/ij/Mosaic_data_augmentation_YOLO/labels/generated_image_57.txt', '/data/ij/Mosaic_data_augmentation_YOLO/labels/generated_image_498.txt', '/data/ij/Mosaic_data_augmentation_YOLO/labels/generated_image_339.txt', '/data/ij/Mosaic_data_augmentation_YOLO/labels/generated_image_291.txt', '/data/ij/Mosaic_data_augmentation_YOLO/labels/generated_image_277.txt', '/data/ij/Mosaic_data_augmentation_YOLO/labels/generated_image_586.txt', '/data/ij/Mosaic_data_augmentation_YOLO/labels/generated_image_165.txt', '/data/ij/Mosaic_data_augmentation_YOLO/labels/generated_image_67.txt', '/data/ij/Mosaic_data_augmentation_YOLO/labels/generated_image_187.txt', '/data/ij/Mosaic_data_augmentation_YOLO/labels/generated_image_56.txt', '/data/ij/Mosaic_data_augmentation_YOLO/labels/generated_image_58.txt', '/data/ij/Mosaic_data_augmentation_YOLO/labels/generated_image_869.txt', '/data/ij/Mosaic_data_augmentation_YOLO/labels/generated_image_313.txt', '/data/ij/Mosaic_data_augmentation_YOLO/labels/generated_image_572.txt', '/data/ij/Mosaic_data_augmentation_YOLO/labels/generated_image_752.txt', '/data/ij/Mosaic_data_augmentation_YOLO/labels/generated_image_506.txt', '/data/ij/Mosaic_data_augmentation_YOLO/labels/generated_image_795.txt', '/data/ij/Mosaic_data_augmentation_YOLO/labels/generated_image_205.txt', '/data/ij/Mosaic_data_augmentation_YOLO/labels/generated_image_333.txt', '/data/ij/Mosaic_data_augmentation_YOLO/labels/generated_image_477.txt', '/data/ij/Mosaic_data_augmentation_YOLO/labels/generated_image_82.txt', '/data/ij/Mosaic_data_augmentation_YOLO/labels/generated_image_445.txt', '/data/ij/Mosaic_data_augmentation_YOLO/labels/generated_image_576.txt', '/data/ij/Mosaic_data_augmentation_YOLO/labels/generated_image_94.txt', '/data/ij/Mosaic_data_augmentation_YOLO/labels/generated_image_170.txt', '/data/ij/Mosaic_data_augmentation_YOLO/labels/generated_image_206.txt', '/data/ij/Mosaic_data_augmentation_YOLO/labels/generated_image_36.txt', '/data/ij/Mosaic_data_augmentation_YOLO/labels/generated_image_148.txt', '/data/ij/Mosaic_data_augmentation_YOLO/labels/generated_image_533.txt', '/data/ij/Mosaic_data_augmentation_YOLO/labels/generated_image_482.txt', '/data/ij/Mosaic_data_augmentation_YOLO/labels/generated_image_347.txt', '/data/ij/Mosaic_data_augmentation_YOLO/labels/generated_image_494.txt', '/data/ij/Mosaic_data_augmentation_YOLO/labels/generated_image_268.txt', '/data/ij/Mosaic_data_augmentation_YOLO/labels/generated_image_647.txt', '/data/ij/Mosaic_data_augmentation_YOLO/labels/generated_image_826.txt', '/data/ij/Mosaic_data_augmentation_YOLO/labels/generated_image_352.txt', '/data/ij/Mosaic_data_augmentation_YOLO/labels/generated_image_461.txt', '/data/ij/Mosaic_data_augmentation_YOLO/labels/generated_image_342.txt', '/data/ij/Mosaic_data_augmentation_YOLO/labels/generated_image_569.txt', '/data/ij/Mosaic_data_augmentation_YOLO/labels/generated_image_25.txt', '/data/ij/Mosaic_data_augmentation_YOLO/labels/generated_image_635.txt', '/data/ij/Mosaic_data_augmentation_YOLO/labels/generated_image_391.txt', '/data/ij/Mosaic_data_augmentation_YOLO/labels/generated_image_398.txt', '/data/ij/Mosaic_data_augmentation_YOLO/labels/generated_image_712.txt', '/data/ij/Mosaic_data_augmentation_YOLO/labels/generated_image_11.txt', '/data/ij/Mosaic_data_augmentation_YOLO/labels/generated_image_505.txt', '/data/ij/Mosaic_data_augmentation_YOLO/labels/generated_image_222.txt', '/data/ij/Mosaic_data_augmentation_YOLO/labels/generated_image_294.txt', '/data/ij/Mosaic_data_augmentation_YOLO/labels/generated_image_68.txt', '/data/ij/Mosaic_data_augmentation_YOLO/labels/generated_image_158.txt', '/data/ij/Mosaic_data_augmentation_YOLO/labels/generated_image_548.txt', '/data/ij/Mosaic_data_augmentation_YOLO/labels/generated_image_478.txt', '/data/ij/Mosaic_data_augmentation_YOLO/labels/generated_image_621.txt', '/data/ij/Mosaic_data_augmentation_YOLO/labels/generated_image_70.txt', '/data/ij/Mosaic_data_augmentation_YOLO/labels/generated_image_501.txt', '/data/ij/Mosaic_data_augmentation_YOLO/labels/generated_image_423.txt', '/data/ij/Mosaic_data_augmentation_YOLO/labels/generated_image_190.txt', '/data/ij/Mosaic_data_augmentation_YOLO/labels/generated_image_63.txt', '/data/ij/Mosaic_data_augmentation_YOLO/labels/generated_image_750.txt', '/data/ij/Mosaic_data_augmentation_YOLO/labels/generated_image_273.txt', '/data/ij/Mosaic_data_augmentation_YOLO/labels/generated_image_78.txt', '/data/ij/Mosaic_data_augmentation_YOLO/labels/generated_image_873.txt', '/data/ij/Mosaic_data_augmentation_YOLO/labels/generated_image_245.txt', '/data/ij/Mosaic_data_augmentation_YOLO/labels/generated_image_310.txt', '/data/ij/Mosaic_data_augmentation_YOLO/labels/generated_image_455.txt', '/data/ij/Mosaic_data_augmentation_YOLO/labels/generated_image_49.txt', '/data/ij/Mosaic_data_augmentation_YOLO/labels/generated_image_807.txt', '/data/ij/Mosaic_data_augmentation_YOLO/labels/generated_image_85.txt', '/data/ij/Mosaic_data_augmentation_YOLO/labels/generated_image_388.txt', '/data/ij/Mosaic_data_augmentation_YOLO/labels/generated_image_430.txt', '/data/ij/Mosaic_data_augmentation_YOLO/labels/generated_image_338.txt', '/data/ij/Mosaic_data_augmentation_YOLO/labels/generated_image_132.txt', '/data/ij/Mosaic_data_augmentation_YOLO/labels/generated_image_358.txt', '/data/ij/Mosaic_data_augmentation_YOLO/labels/generated_image_885.txt', '/data/ij/Mosaic_data_augmentation_YOLO/labels/generated_image_417.txt', '/data/ij/Mosaic_data_augmentation_YOLO/labels/generated_image_195.txt', '/data/ij/Mosaic_data_augmentation_YOLO/labels/generated_image_893.txt', '/data/ij/Mosaic_data_augmentation_YOLO/labels/generated_image_699.txt', '/data/ij/Mosaic_data_augmentation_YOLO/labels/generated_image_217.txt', '/data/ij/Mosaic_data_augmentation_YOLO/labels/generated_image_55.txt', '/data/ij/Mosaic_data_augmentation_YOLO/labels/generated_image_419.txt', '/data/ij/Mosaic_data_augmentation_YOLO/labels/generated_image_357.txt', '/data/ij/Mosaic_data_augmentation_YOLO/labels/generated_image_857.txt', '/data/ij/Mosaic_data_augmentation_YOLO/labels/generated_image_650.txt', '/data/ij/Mosaic_data_augmentation_YOLO/labels/generated_image_765.txt', '/data/ij/Mosaic_data_augmentation_YOLO/labels/generated_image_614.txt', '/data/ij/Mosaic_data_augmentation_YOLO/labels/generated_image_409.txt', '/data/ij/Mosaic_data_augmentation_YOLO/labels/generated_image_198.txt', '/data/ij/Mosaic_data_augmentation_YOLO/labels/generated_image_889.txt', '/data/ij/Mosaic_data_augmentation_YOLO/labels/generated_image_894.txt', '/data/ij/Mosaic_data_augmentation_YOLO/labels/generated_image_802.txt', '/data/ij/Mosaic_data_augmentation_YOLO/labels/generated_image_555.txt', '/data/ij/Mosaic_data_augmentation_YOLO/labels/generated_image_760.txt', '/data/ij/Mosaic_data_augmentation_YOLO/labels/generated_image_678.txt', '/data/ij/Mosaic_data_augmentation_YOLO/labels/generated_image_529.txt', '/data/ij/Mosaic_data_augmentation_YOLO/labels/generated_image_345.txt', '/data/ij/Mosaic_data_augmentation_YOLO/labels/generated_image_446.txt', '/data/ij/Mosaic_data_augmentation_YOLO/labels/generated_image_466.txt', '/data/ij/Mosaic_data_augmentation_YOLO/labels/generated_image_716.txt', '/data/ij/Mosaic_data_augmentation_YOLO/labels/generated_image_767.txt', '/data/ij/Mosaic_data_augmentation_YOLO/labels/generated_image_411.txt', '/data/ij/Mosaic_data_augmentation_YOLO/labels/generated_image_696.txt', '/data/ij/Mosaic_data_augmentation_YOLO/labels/generated_image_157.txt', '/data/ij/Mosaic_data_augmentation_YOLO/labels/generated_image_326.txt', '/data/ij/Mosaic_data_augmentation_YOLO/labels/generated_image_177.txt', '/data/ij/Mosaic_data_augmentation_YOLO/labels/generated_image_252.txt', '/data/ij/Mosaic_data_augmentation_YOLO/labels/generated_image_766.txt', '/data/ij/Mosaic_data_augmentation_YOLO/labels/generated_image_32.txt', '/data/ij/Mosaic_data_augmentation_YOLO/labels/generated_image_424.txt', '/data/ij/Mosaic_data_augmentation_YOLO/labels/generated_image_321.txt', '/data/ij/Mosaic_data_augmentation_YOLO/labels/generated_image_838.txt', '/data/ij/Mosaic_data_augmentation_YOLO/labels/generated_image_812.txt', '/data/ij/Mosaic_data_augmentation_YOLO/labels/generated_image_654.txt', '/data/ij/Mosaic_data_augmentation_YOLO/labels/generated_image_584.txt', '/data/ij/Mosaic_data_augmentation_YOLO/labels/generated_image_405.txt', '/data/ij/Mosaic_data_augmentation_YOLO/labels/generated_image_687.txt', '/data/ij/Mosaic_data_augmentation_YOLO/labels/generated_image_425.txt', '/data/ij/Mosaic_data_augmentation_YOLO/labels/generated_image_53.txt', '/data/ij/Mosaic_data_augmentation_YOLO/labels/generated_image_436.txt', '/data/ij/Mosaic_data_augmentation_YOLO/labels/generated_image_526.txt', '/data/ij/Mosaic_data_augmentation_YOLO/labels/generated_image_407.txt', '/data/ij/Mosaic_data_augmentation_YOLO/labels/generated_image_328.txt', '/data/ij/Mosaic_data_augmentation_YOLO/labels/generated_image_648.txt', '/data/ij/Mosaic_data_augmentation_YOLO/labels/generated_image_551.txt', '/data/ij/Mosaic_data_augmentation_YOLO/labels/generated_image_757.txt', '/data/ij/Mosaic_data_augmentation_YOLO/labels/generated_image_418.txt', '/data/ij/Mosaic_data_augmentation_YOLO/labels/generated_image_485.txt', '/data/ij/Mosaic_data_augmentation_YOLO/labels/generated_image_182.txt', '/data/ij/Mosaic_data_augmentation_YOLO/labels/generated_image_617.txt', '/data/ij/Mosaic_data_augmentation_YOLO/labels/generated_image_335.txt', '/data/ij/Mosaic_data_augmentation_YOLO/labels/generated_image_725.txt', '/data/ij/Mosaic_data_augmentation_YOLO/labels/generated_image_216.txt', '/data/ij/Mosaic_data_augmentation_YOLO/labels/generated_image_33.txt', '/data/ij/Mosaic_data_augmentation_YOLO/labels/generated_image_42.txt', '/data/ij/Mosaic_data_augmentation_YOLO/labels/generated_image_312.txt', '/data/ij/Mosaic_data_augmentation_YOLO/labels/generated_image_344.txt', '/data/ij/Mosaic_data_augmentation_YOLO/labels/generated_image_785.txt', '/data/ij/Mosaic_data_augmentation_YOLO/labels/generated_image_380.txt', '/data/ij/Mosaic_data_augmentation_YOLO/labels/generated_image_880.txt', '/data/ij/Mosaic_data_augmentation_YOLO/labels/generated_image_60.txt', '/data/ij/Mosaic_data_augmentation_YOLO/labels/generated_image_323.txt', '/data/ij/Mosaic_data_augmentation_YOLO/labels/generated_image_762.txt', '/data/ij/Mosaic_data_augmentation_YOLO/labels/generated_image_632.txt', '/data/ij/Mosaic_data_augmentation_YOLO/labels/generated_image_513.txt', '/data/ij/Mosaic_data_augmentation_YOLO/labels/generated_image_644.txt', '/data/ij/Mosaic_data_augmentation_YOLO/labels/generated_image_189.txt', '/data/ij/Mosaic_data_augmentation_YOLO/labels/generated_image_747.txt', '/data/ij/Mosaic_data_augmentation_YOLO/labels/generated_image_578.txt', '/data/ij/Mosaic_data_augmentation_YOLO/labels/generated_image_59.txt', '/data/ij/Mosaic_data_augmentation_YOLO/labels/generated_image_581.txt', '/data/ij/Mosaic_data_augmentation_YOLO/labels/generated_image_737.txt', '/data/ij/Mosaic_data_augmentation_YOLO/labels/generated_image_374.txt', '/data/ij/Mosaic_data_augmentation_YOLO/labels/generated_image_475.txt', '/data/ij/Mosaic_data_augmentation_YOLO/labels/generated_image_550.txt', '/data/ij/Mosaic_data_augmentation_YOLO/labels/generated_image_703.txt', '/data/ij/Mosaic_data_augmentation_YOLO/labels/generated_image_599.txt', '/data/ij/Mosaic_data_augmentation_YOLO/labels/generated_image_267.txt', '/data/ij/Mosaic_data_augmentation_YOLO/labels/generated_image_168.txt', '/data/ij/Mosaic_data_augmentation_YOLO/labels/generated_image_860.txt', '/data/ij/Mosaic_data_augmentation_YOLO/labels/generated_image_152.txt', '/data/ij/Mosaic_data_augmentation_YOLO/labels/generated_image_31.txt', '/data/ij/Mosaic_data_augmentation_YOLO/labels/generated_image_117.txt', '/data/ij/Mosaic_data_augmentation_YOLO/labels/generated_image_140.txt', '/data/ij/Mosaic_data_augmentation_YOLO/labels/generated_image_878.txt', '/data/ij/Mosaic_data_augmentation_YOLO/labels/generated_image_783.txt', '/data/ij/Mosaic_data_augmentation_YOLO/labels/generated_image_898.txt', '/data/ij/Mosaic_data_augmentation_YOLO/labels/generated_image_428.txt', '/data/ij/Mosaic_data_augmentation_YOLO/labels/generated_image_845.txt', '/data/ij/Mosaic_data_augmentation_YOLO/labels/generated_image_28.txt', '/data/ij/Mosaic_data_augmentation_YOLO/labels/generated_image_888.txt', '/data/ij/Mosaic_data_augmentation_YOLO/labels/generated_image_350.txt', '/data/ij/Mosaic_data_augmentation_YOLO/labels/generated_image_670.txt', '/data/ij/Mosaic_data_augmentation_YOLO/labels/generated_image_48.txt', '/data/ij/Mosaic_data_augmentation_YOLO/labels/generated_image_318.txt', '/data/ij/Mosaic_data_augmentation_YOLO/labels/generated_image_511.txt', '/data/ij/Mosaic_data_augmentation_YOLO/labels/generated_image_744.txt', '/data/ij/Mosaic_data_augmentation_YOLO/labels/generated_image_72.txt', '/data/ij/Mosaic_data_augmentation_YOLO/labels/generated_image_141.txt', '/data/ij/Mosaic_data_augmentation_YOLO/labels/generated_image_142.txt', '/data/ij/Mosaic_data_augmentation_YOLO/labels/generated_image_527.txt', '/data/ij/Mosaic_data_augmentation_YOLO/labels/generated_image_119.txt', '/data/ij/Mosaic_data_augmentation_YOLO/labels/generated_image_151.txt', '/data/ij/Mosaic_data_augmentation_YOLO/labels/generated_image_504.txt', '/data/ij/Mosaic_data_augmentation_YOLO/labels/generated_image_451.txt', '/data/ij/Mosaic_data_augmentation_YOLO/labels/generated_image_606.txt', '/data/ij/Mosaic_data_augmentation_YOLO/labels/generated_image_729.txt', '/data/ij/Mosaic_data_augmentation_YOLO/labels/generated_image_91.txt', '/data/ij/Mosaic_data_augmentation_YOLO/labels/generated_image_590.txt', '/data/ij/Mosaic_data_augmentation_YOLO/labels/generated_image_69.txt', '/data/ij/Mosaic_data_augmentation_YOLO/labels/generated_image_479.txt', '/data/ij/Mosaic_data_augmentation_YOLO/labels/generated_image_43.txt', '/data/ij/Mosaic_data_augmentation_YOLO/labels/generated_image_449.txt', '/data/ij/Mosaic_data_augmentation_YOLO/labels/generated_image_88.txt', '/data/ij/Mosaic_data_augmentation_YOLO/labels/generated_image_701.txt', '/data/ij/Mosaic_data_augmentation_YOLO/labels/generated_image_503.txt', '/data/ij/Mosaic_data_augmentation_YOLO/labels/generated_image_228.txt', '/data/ij/Mosaic_data_augmentation_YOLO/labels/generated_image_820.txt', '/data/ij/Mosaic_data_augmentation_YOLO/labels/generated_image_886.txt', '/data/ij/Mosaic_data_augmentation_YOLO/labels/generated_image_10.txt', '/data/ij/Mosaic_data_augmentation_YOLO/labels/generated_image_660.txt', '/data/ij/Mosaic_data_augmentation_YOLO/labels/generated_image_282.txt', '/data/ij/Mosaic_data_augmentation_YOLO/labels/generated_image_8.txt', '/data/ij/Mosaic_data_augmentation_YOLO/labels/generated_image_510.txt', '/data/ij/Mosaic_data_augmentation_YOLO/labels/generated_image_385.txt', '/data/ij/Mosaic_data_augmentation_YOLO/labels/generated_image_874.txt', '/data/ij/Mosaic_data_augmentation_YOLO/labels/generated_image_397.txt', '/data/ij/Mosaic_data_augmentation_YOLO/labels/generated_image_235.txt', '/data/ij/Mosaic_data_augmentation_YOLO/labels/generated_image_4.txt', '/data/ij/Mosaic_data_augmentation_YOLO/labels/generated_image_0.txt', '/data/ij/Mosaic_data_augmentation_YOLO/labels/generated_image_575.txt', '/data/ij/Mosaic_data_augmentation_YOLO/labels/generated_image_789.txt', '/data/ij/Mosaic_data_augmentation_YOLO/labels/generated_image_24.txt', '/data/ij/Mosaic_data_augmentation_YOLO/labels/generated_image_689.txt', '/data/ij/Mosaic_data_augmentation_YOLO/labels/generated_image_538.txt', '/data/ij/Mosaic_data_augmentation_YOLO/labels/generated_image_685.txt', '/data/ij/Mosaic_data_augmentation_YOLO/labels/generated_image_577.txt', '/data/ij/Mosaic_data_augmentation_YOLO/labels/generated_image_115.txt', '/data/ij/Mosaic_data_augmentation_YOLO/labels/generated_image_825.txt', '/data/ij/Mosaic_data_augmentation_YOLO/labels/generated_image_456.txt', '/data/ij/Mosaic_data_augmentation_YOLO/labels/generated_image_615.txt', '/data/ij/Mosaic_data_augmentation_YOLO/labels/generated_image_781.txt', '/data/ij/Mosaic_data_augmentation_YOLO/labels/generated_image_602.txt', '/data/ij/Mosaic_data_augmentation_YOLO/labels/generated_image_113.txt', '/data/ij/Mosaic_data_augmentation_YOLO/labels/generated_image_382.txt', '/data/ij/Mosaic_data_augmentation_YOLO/labels/generated_image_571.txt', '/data/ij/Mosaic_data_augmentation_YOLO/labels/generated_image_604.txt', '/data/ij/Mosaic_data_augmentation_YOLO/labels/generated_image_798.txt', '/data/ij/Mosaic_data_augmentation_YOLO/labels/generated_image_120.txt', '/data/ij/Mosaic_data_augmentation_YOLO/labels/generated_image_266.txt', '/data/ij/Mosaic_data_augmentation_YOLO/labels/generated_image_191.txt', '/data/ij/Mosaic_data_augmentation_YOLO/labels/generated_image_414.txt', '/data/ij/Mosaic_data_augmentation_YOLO/labels/generated_image_753.txt', '/data/ij/Mosaic_data_augmentation_YOLO/labels/generated_image_852.txt', '/data/ij/Mosaic_data_augmentation_YOLO/labels/generated_image_679.txt', '/data/ij/Mosaic_data_augmentation_YOLO/labels/generated_image_458.txt', '/data/ij/Mosaic_data_augmentation_YOLO/labels/generated_image_331.txt', '/data/ij/Mosaic_data_augmentation_YOLO/labels/generated_image_462.txt', '/data/ij/Mosaic_data_augmentation_YOLO/labels/generated_image_246.txt', '/data/ij/Mosaic_data_augmentation_YOLO/labels/generated_image_95.txt', '/data/ij/Mosaic_data_augmentation_YOLO/labels/generated_image_746.txt', '/data/ij/Mosaic_data_augmentation_YOLO/labels/generated_image_66.txt', '/data/ij/Mosaic_data_augmentation_YOLO/labels/generated_image_656.txt', '/data/ij/Mosaic_data_augmentation_YOLO/labels/generated_image_693.txt', '/data/ij/Mosaic_data_augmentation_YOLO/labels/generated_image_731.txt', '/data/ij/Mosaic_data_augmentation_YOLO/labels/generated_image_278.txt', '/data/ij/Mosaic_data_augmentation_YOLO/labels/generated_image_396.txt', '/data/ij/Mosaic_data_augmentation_YOLO/labels/generated_image_183.txt', '/data/ij/Mosaic_data_augmentation_YOLO/labels/generated_image_695.txt', '/data/ij/Mosaic_data_augmentation_YOLO/labels/generated_image_256.txt', '/data/ij/Mosaic_data_augmentation_YOLO/labels/generated_image_797.txt', '/data/ij/Mosaic_data_augmentation_YOLO/labels/generated_image_663.txt', '/data/ij/Mosaic_data_augmentation_YOLO/labels/generated_image_54.txt', '/data/ij/Mosaic_data_augmentation_YOLO/labels/generated_image_502.txt', '/data/ij/Mosaic_data_augmentation_YOLO/labels/generated_image_612.txt', '/data/ij/Mosaic_data_augmentation_YOLO/labels/generated_image_250.txt', '/data/ij/Mosaic_data_augmentation_YOLO/labels/generated_image_640.txt', '/data/ij/Mosaic_data_augmentation_YOLO/labels/generated_image_270.txt', '/data/ij/Mosaic_data_augmentation_YOLO/labels/generated_image_384.txt', '/data/ij/Mosaic_data_augmentation_YOLO/labels/generated_image_192.txt', '/data/ij/Mosaic_data_augmentation_YOLO/labels/generated_image_229.txt', '/data/ij/Mosaic_data_augmentation_YOLO/labels/generated_image_496.txt', '/data/ij/Mosaic_data_augmentation_YOLO/labels/generated_image_727.txt', '/data/ij/Mosaic_data_augmentation_YOLO/labels/generated_image_805.txt', '/data/ij/Mosaic_data_augmentation_YOLO/labels/generated_image_271.txt', '/data/ij/Mosaic_data_augmentation_YOLO/labels/generated_image_868.txt', '/data/ij/Mosaic_data_augmentation_YOLO/labels/generated_image_432.txt', '/data/ij/Mosaic_data_augmentation_YOLO/labels/generated_image_404.txt', '/data/ij/Mosaic_data_augmentation_YOLO/labels/generated_image_547.txt', '/data/ij/Mosaic_data_augmentation_YOLO/labels/generated_image_570.txt', '/data/ij/Mosaic_data_augmentation_YOLO/labels/generated_image_176.txt', '/data/ij/Mosaic_data_augmentation_YOLO/labels/generated_image_830.txt', '/data/ij/Mosaic_data_augmentation_YOLO/labels/generated_image_887.txt', '/data/ij/Mosaic_data_augmentation_YOLO/labels/generated_image_155.txt', '/data/ij/Mosaic_data_augmentation_YOLO/labels/generated_image_871.txt', '/data/ij/Mosaic_data_augmentation_YOLO/labels/generated_image_370.txt', '/data/ij/Mosaic_data_augmentation_YOLO/labels/generated_image_671.txt', '/data/ij/Mosaic_data_augmentation_YOLO/labels/generated_image_722.txt', '/data/ij/Mosaic_data_augmentation_YOLO/labels/generated_image_50.txt', '/data/ij/Mosaic_data_augmentation_YOLO/labels/generated_image_848.txt', '/data/ij/Mosaic_data_augmentation_YOLO/labels/generated_image_733.txt', '/data/ij/Mosaic_data_augmentation_YOLO/labels/generated_image_224.txt', '/data/ij/Mosaic_data_augmentation_YOLO/labels/generated_image_585.txt', '/data/ij/Mosaic_data_augmentation_YOLO/labels/generated_image_369.txt', '/data/ij/Mosaic_data_augmentation_YOLO/labels/generated_image_543.txt', '/data/ij/Mosaic_data_augmentation_YOLO/labels/generated_image_211.txt', '/data/ij/Mosaic_data_augmentation_YOLO/labels/generated_image_314.txt', '/data/ij/Mosaic_data_augmentation_YOLO/labels/generated_image_691.txt', '/data/ij/Mosaic_data_augmentation_YOLO/labels/generated_image_672.txt', '/data/ij/Mosaic_data_augmentation_YOLO/labels/generated_image_900.txt', '/data/ij/Mosaic_data_augmentation_YOLO/labels/generated_image_669.txt', '/data/ij/Mosaic_data_augmentation_YOLO/labels/generated_image_307.txt', '/data/ij/Mosaic_data_augmentation_YOLO/labels/generated_image_118.txt', '/data/ij/Mosaic_data_augmentation_YOLO/labels/generated_image_849.txt', '/data/ij/Mosaic_data_augmentation_YOLO/labels/generated_image_311.txt', '/data/ij/Mosaic_data_augmentation_YOLO/labels/generated_image_401.txt', '/data/ij/Mosaic_data_augmentation_YOLO/labels/generated_image_203.txt', '/data/ij/Mosaic_data_augmentation_YOLO/labels/generated_image_625.txt', '/data/ij/Mosaic_data_augmentation_YOLO/labels/generated_image_116.txt', '/data/ij/Mosaic_data_augmentation_YOLO/labels/generated_image_743.txt', '/data/ij/Mosaic_data_augmentation_YOLO/labels/generated_image_146.txt', '/data/ij/Mosaic_data_augmentation_YOLO/labels/generated_image_360.txt', '/data/ij/Mosaic_data_augmentation_YOLO/labels/generated_image_372.txt', '/data/ij/Mosaic_data_augmentation_YOLO/labels/generated_image_361.txt', '/data/ij/Mosaic_data_augmentation_YOLO/labels/generated_image_45.txt', '/data/ij/Mosaic_data_augmentation_YOLO/labels/generated_image_476.txt', '/data/ij/Mosaic_data_augmentation_YOLO/labels/generated_image_653.txt', '/data/ij/Mosaic_data_augmentation_YOLO/labels/generated_image_306.txt', '/data/ij/Mosaic_data_augmentation_YOLO/labels/generated_image_126.txt', '/data/ij/Mosaic_data_augmentation_YOLO/labels/generated_image_121.txt', '/data/ij/Mosaic_data_augmentation_YOLO/labels/generated_image_47.txt', '/data/ij/Mosaic_data_augmentation_YOLO/labels/generated_image_248.txt', '/data/ij/Mosaic_data_augmentation_YOLO/labels/generated_image_81.txt', '/data/ij/Mosaic_data_augmentation_YOLO/labels/generated_image_463.txt', '/data/ij/Mosaic_data_augmentation_YOLO/labels/generated_image_389.txt', '/data/ij/Mosaic_data_augmentation_YOLO/labels/generated_image_464.txt', '/data/ij/Mosaic_data_augmentation_YOLO/labels/generated_image_238.txt', '/data/ij/Mosaic_data_augmentation_YOLO/labels/generated_image_13.txt', '/data/ij/Mosaic_data_augmentation_YOLO/labels/generated_image_64.txt', '/data/ij/Mosaic_data_augmentation_YOLO/labels/generated_image_688.txt', '/data/ij/Mosaic_data_augmentation_YOLO/labels/generated_image_166.txt', '/data/ij/Mosaic_data_augmentation_YOLO/labels/generated_image_351.txt', '/data/ij/Mosaic_data_augmentation_YOLO/labels/generated_image_655.txt', '/data/ij/Mosaic_data_augmentation_YOLO/labels/generated_image_835.txt', '/data/ij/Mosaic_data_augmentation_YOLO/labels/generated_image_156.txt', '/data/ij/Mosaic_data_augmentation_YOLO/labels/generated_image_686.txt', '/data/ij/Mosaic_data_augmentation_YOLO/labels/generated_image_682.txt', '/data/ij/Mosaic_data_augmentation_YOLO/labels/generated_image_719.txt', '/data/ij/Mosaic_data_augmentation_YOLO/labels/generated_image_130.txt', '/data/ij/Mosaic_data_augmentation_YOLO/labels/generated_image_545.txt', '/data/ij/Mosaic_data_augmentation_YOLO/labels/generated_image_702.txt', '/data/ij/Mosaic_data_augmentation_YOLO/labels/generated_image_422.txt', '/data/ij/Mosaic_data_augmentation_YOLO/labels/generated_image_709.txt', '/data/ij/Mosaic_data_augmentation_YOLO/labels/generated_image_856.txt', '/data/ij/Mosaic_data_augmentation_YOLO/labels/generated_image_379.txt', '/data/ij/Mosaic_data_augmentation_YOLO/labels/generated_image_901.txt', '/data/ij/Mosaic_data_augmentation_YOLO/labels/generated_image_61.txt', '/data/ij/Mosaic_data_augmentation_YOLO/labels/generated_image_99.txt', '/data/ij/Mosaic_data_augmentation_YOLO/labels/generated_image_100.txt', '/data/ij/Mosaic_data_augmentation_YOLO/labels/generated_image_89.txt', '/data/ij/Mosaic_data_augmentation_YOLO/labels/generated_image_831.txt', '/data/ij/Mosaic_data_augmentation_YOLO/labels/generated_image_453.txt', '/data/ij/Mosaic_data_augmentation_YOLO/labels/generated_image_395.txt', '/data/ij/Mosaic_data_augmentation_YOLO/labels/generated_image_18.txt', '/data/ij/Mosaic_data_augmentation_YOLO/labels/generated_image_601.txt', '/data/ij/Mosaic_data_augmentation_YOLO/labels/generated_image_356.txt', '/data/ij/Mosaic_data_augmentation_YOLO/labels/generated_image_735.txt', '/data/ij/Mosaic_data_augmentation_YOLO/labels/generated_image_738.txt', '/data/ij/Mosaic_data_augmentation_YOLO/labels/generated_image_406.txt', '/data/ij/Mosaic_data_augmentation_YOLO/labels/generated_image_633.txt', '/data/ij/Mosaic_data_augmentation_YOLO/labels/generated_image_105.txt', '/data/ij/Mosaic_data_augmentation_YOLO/labels/generated_image_186.txt', '/data/ij/Mosaic_data_augmentation_YOLO/labels/generated_image_799.txt', '/data/ij/Mosaic_data_augmentation_YOLO/labels/generated_image_605.txt', '/data/ij/Mosaic_data_augmentation_YOLO/labels/generated_image_437.txt', '/data/ij/Mosaic_data_augmentation_YOLO/labels/generated_image_794.txt', '/data/ij/Mosaic_data_augmentation_YOLO/labels/generated_image_728.txt', '/data/ij/Mosaic_data_augmentation_YOLO/labels/generated_image_368.txt', '/data/ij/Mosaic_data_augmentation_YOLO/labels/generated_image_546.txt', '/data/ij/Mosaic_data_augmentation_YOLO/labels/generated_image_866.txt', '/data/ij/Mosaic_data_augmentation_YOLO/labels/generated_image_587.txt', '/data/ij/Mosaic_data_augmentation_YOLO/labels/generated_image_500.txt', '/data/ij/Mosaic_data_augmentation_YOLO/labels/generated_image_237.txt', '/data/ij/Mosaic_data_augmentation_YOLO/labels/generated_image_580.txt', '/data/ij/Mosaic_data_augmentation_YOLO/labels/generated_image_756.txt', '/data/ij/Mosaic_data_augmentation_YOLO/labels/generated_image_620.txt', '/data/ij/Mosaic_data_augmentation_YOLO/labels/generated_image_2.txt', '/data/ij/Mosaic_data_augmentation_YOLO/labels/generated_image_363.txt', '/data/ij/Mosaic_data_augmentation_YOLO/labels/generated_image_516.txt', '/data/ij/Mosaic_data_augmentation_YOLO/labels/generated_image_289.txt', '/data/ij/Mosaic_data_augmentation_YOLO/labels/generated_image_892.txt', '/data/ij/Mosaic_data_augmentation_YOLO/labels/generated_image_674.txt', '/data/ij/Mosaic_data_augmentation_YOLO/labels/generated_image_883.txt', '/data/ij/Mosaic_data_augmentation_YOLO/labels/generated_image_243.txt', '/data/ij/Mosaic_data_augmentation_YOLO/labels/generated_image_881.txt', '/data/ij/Mosaic_data_augmentation_YOLO/labels/generated_image_525.txt', '/data/ij/Mosaic_data_augmentation_YOLO/labels/generated_image_46.txt', '/data/ij/Mosaic_data_augmentation_YOLO/labels/generated_image_302.txt', '/data/ij/Mosaic_data_augmentation_YOLO/labels/generated_image_309.txt', '/data/ij/Mosaic_data_augmentation_YOLO/labels/generated_image_770.txt', '/data/ij/Mosaic_data_augmentation_YOLO/labels/generated_image_450.txt', '/data/ij/Mosaic_data_augmentation_YOLO/labels/generated_image_239.txt', '/data/ij/Mosaic_data_augmentation_YOLO/labels/generated_image_175.txt', '/data/ij/Mosaic_data_augmentation_YOLO/labels/generated_image_97.txt', '/data/ij/Mosaic_data_augmentation_YOLO/labels/generated_image_816.txt', '/data/ij/Mosaic_data_augmentation_YOLO/labels/generated_image_723.txt', '/data/ij/Mosaic_data_augmentation_YOLO/labels/generated_image_285.txt', '/data/ij/Mosaic_data_augmentation_YOLO/labels/generated_image_769.txt', '/data/ij/Mosaic_data_augmentation_YOLO/labels/generated_image_700.txt', '/data/ij/Mosaic_data_augmentation_YOLO/labels/generated_image_806.txt', '/data/ij/Mosaic_data_augmentation_YOLO/labels/generated_image_519.txt', '/data/ij/Mosaic_data_augmentation_YOLO/labels/generated_image_603.txt', '/data/ij/Mosaic_data_augmentation_YOLO/labels/generated_image_128.txt', '/data/ij/Mosaic_data_augmentation_YOLO/labels/generated_image_208.txt', '/data/ij/Mosaic_data_augmentation_YOLO/labels/generated_image_666.txt', '/data/ij/Mosaic_data_augmentation_YOLO/labels/generated_image_227.txt', '/data/ij/Mosaic_data_augmentation_YOLO/labels/generated_image_630.txt', '/data/ij/Mosaic_data_augmentation_YOLO/labels/generated_image_588.txt', '/data/ij/Mosaic_data_augmentation_YOLO/labels/generated_image_444.txt', '/data/ij/Mosaic_data_augmentation_YOLO/labels/generated_image_218.txt', '/data/ij/Mosaic_data_augmentation_YOLO/labels/generated_image_440.txt', '/data/ij/Mosaic_data_augmentation_YOLO/labels/generated_image_879.txt', '/data/ij/Mosaic_data_augmentation_YOLO/labels/generated_image_163.txt', '/data/ij/Mosaic_data_augmentation_YOLO/labels/generated_image_808.txt', '/data/ij/Mosaic_data_augmentation_YOLO/labels/generated_image_673.txt', '/data/ij/Mosaic_data_augmentation_YOLO/labels/generated_image_164.txt', '/data/ij/Mosaic_data_augmentation_YOLO/labels/generated_image_904.txt', '/data/ij/Mosaic_data_augmentation_YOLO/labels/generated_image_554.txt', '/data/ij/Mosaic_data_augmentation_YOLO/labels/generated_image_184.txt', '/data/ij/Mosaic_data_augmentation_YOLO/labels/generated_image_353.txt', '/data/ij/Mosaic_data_augmentation_YOLO/labels/generated_image_281.txt', '/data/ij/Mosaic_data_augmentation_YOLO/labels/generated_image_683.txt', '/data/ij/Mosaic_data_augmentation_YOLO/labels/generated_image_14.txt', '/data/ij/Mosaic_data_augmentation_YOLO/labels/generated_image_813.txt', '/data/ij/Mosaic_data_augmentation_YOLO/labels/generated_image_153.txt', '/data/ij/Mosaic_data_augmentation_YOLO/labels/generated_image_810.txt', '/data/ij/Mosaic_data_augmentation_YOLO/labels/generated_image_316.txt', '/data/ij/Mosaic_data_augmentation_YOLO/labels/generated_image_92.txt', '/data/ij/Mosaic_data_augmentation_YOLO/labels/generated_image_755.txt', '/data/ij/Mosaic_data_augmentation_YOLO/labels/generated_image_875.txt', '/data/ij/Mosaic_data_augmentation_YOLO/labels/generated_image_234.txt', '/data/ij/Mosaic_data_augmentation_YOLO/labels/generated_image_329.txt', '/data/ij/Mosaic_data_augmentation_YOLO/labels/generated_image_34.txt', '/data/ij/Mosaic_data_augmentation_YOLO/labels/generated_image_634.txt', '/data/ij/Mosaic_data_augmentation_YOLO/labels/generated_image_520.txt', '/data/ij/Mosaic_data_augmentation_YOLO/labels/generated_image_698.txt', '/data/ij/Mosaic_data_augmentation_YOLO/labels/generated_image_371.txt', '/data/ij/Mosaic_data_augmentation_YOLO/labels/generated_image_159.txt', '/data/ij/Mosaic_data_augmentation_YOLO/labels/generated_image_37.txt', '/data/ij/Mosaic_data_augmentation_YOLO/labels/generated_image_138.txt', '/data/ij/Mosaic_data_augmentation_YOLO/labels/generated_image_162.txt', '/data/ij/Mosaic_data_augmentation_YOLO/labels/generated_image_843.txt', '/data/ij/Mosaic_data_augmentation_YOLO/labels/generated_image_652.txt', '/data/ij/Mosaic_data_augmentation_YOLO/labels/generated_image_499.txt', '/data/ij/Mosaic_data_augmentation_YOLO/labels/generated_image_531.txt', '/data/ij/Mosaic_data_augmentation_YOLO/labels/generated_image_337.txt', '/data/ij/Mosaic_data_augmentation_YOLO/labels/generated_image_532.txt', '/data/ij/Mosaic_data_augmentation_YOLO/labels/generated_image_173.txt', '/data/ij/Mosaic_data_augmentation_YOLO/labels/generated_image_40.txt', '/data/ij/Mosaic_data_augmentation_YOLO/labels/generated_image_552.txt', '/data/ij/Mosaic_data_augmentation_YOLO/labels/generated_image_646.txt', '/data/ij/Mosaic_data_augmentation_YOLO/labels/generated_image_721.txt', '/data/ij/Mosaic_data_augmentation_YOLO/labels/generated_image_244.txt', '/data/ij/Mosaic_data_augmentation_YOLO/labels/generated_image_399.txt', '/data/ij/Mosaic_data_augmentation_YOLO/labels/generated_image_474.txt', '/data/ij/Mosaic_data_augmentation_YOLO/labels/generated_image_836.txt', '/data/ij/Mosaic_data_augmentation_YOLO/labels/generated_image_400.txt', '/data/ij/Mosaic_data_augmentation_YOLO/labels/generated_image_108.txt', '/data/ij/Mosaic_data_augmentation_YOLO/labels/generated_image_834.txt', '/data/ij/Mosaic_data_augmentation_YOLO/labels/generated_image_658.txt']\n",
      "n : 534\n",
      "indices_ : range(0, 534)\n",
      "indices : [42, 150, 329, 406]\n",
      "img : (64, 64, 3)\n",
      "i : 0\n",
      "img : (64, 64, 3)\n",
      "i : 1\n",
      "img : (64, 64, 3)\n",
      "i : 2\n",
      "img : (64, 64, 3)\n",
      "i : 3\n",
      "(64, 64, 3)\n"
     ]
    },
    {
     "data": {
      "image/png": "[encoded data removed]",
      "text/plain": [
       "<PIL.Image.Image image mode=RGB size=64x64>"
      ]
     },
     "execution_count": 59,
     "metadata": {},
     "output_type": "execute_result"
    }
   ],
   "source": [
    "im, la = myMosaic(img_size, path)\n",
    "print(im.shape)\n",
    "myFig(cv2.cvtColor(im, cv2.COLOR_BGR2RGB), la)"
   ]
  },
  {
   "cell_type": "markdown",
   "id": "5cf55e33",
   "metadata": {},
   "source": [
    "<br> \n",
    "setting"
   ]
  },
  {
   "cell_type": "code",
   "execution_count": 168,
   "id": "4192a21a",
   "metadata": {},
   "outputs": [],
   "source": [
    "img_size = 64\n",
    "# path = '/data/ij/Mosaic_data_augmentation_YOLO/coco128/images/train2017'\n",
    "path = '/data/ij/Mosaic_data_augmentation_YOLO/images'"
   ]
  },
  {
   "cell_type": "code",
   "execution_count": 169,
   "id": "3081e51f",
   "metadata": {},
   "outputs": [],
   "source": [
    "labels4 = [] # 최종 output image \n",
    "s = img_size\n",
    "mosaic_border = [-img_size // 2, -img_size // 2]"
   ]
  },
  {
   "cell_type": "code",
   "execution_count": 170,
   "id": "df17ea35",
   "metadata": {},
   "outputs": [
    {
     "data": {
      "text/plain": [
       "[-32, -32]"
      ]
     },
     "execution_count": 170,
     "metadata": {},
     "output_type": "execute_result"
    }
   ],
   "source": [
    "mosaic_border"
   ]
  },
  {
   "cell_type": "markdown",
   "id": "0a86540b",
   "metadata": {},
   "source": [
    "<br> \n",
    "image files and label files"
   ]
  },
  {
   "cell_type": "code",
   "execution_count": 171,
   "id": "230a7f9c",
   "metadata": {},
   "outputs": [],
   "source": [
    "im_files = np.array([i for i in os.listdir(path) if i.endswith(\"png\")], dtype = \"object\")\n",
    "im_files = list(path + \"/\" + im_files)"
   ]
  },
  {
   "cell_type": "code",
   "execution_count": 172,
   "id": "2907c0df",
   "metadata": {},
   "outputs": [
    {
     "data": {
      "text/plain": [
       "['/data/ij/Mosaic_data_augmentation_YOLO/images/generated_image_573.png',\n",
       " '/data/ij/Mosaic_data_augmentation_YOLO/images/generated_image_817.png',\n",
       " '/data/ij/Mosaic_data_augmentation_YOLO/images/generated_image_287.png',\n",
       " '/data/ij/Mosaic_data_augmentation_YOLO/images/generated_image_592.png',\n",
       " '/data/ij/Mosaic_data_augmentation_YOLO/images/generated_image_62.png',\n",
       " '/data/ij/Mosaic_data_augmentation_YOLO/images/generated_image_541.png',\n",
       " '/data/ij/Mosaic_data_augmentation_YOLO/images/generated_image_393.png',\n",
       " '/data/ij/Mosaic_data_augmentation_YOLO/images/generated_image_521.png',\n",
       " '/data/ij/Mosaic_data_augmentation_YOLO/images/generated_image_803.png',\n",
       " '/data/ij/Mosaic_data_augmentation_YOLO/images/generated_image_559.png']"
      ]
     },
     "execution_count": 172,
     "metadata": {},
     "output_type": "execute_result"
    }
   ],
   "source": [
    "im_files[:10]"
   ]
  },
  {
   "cell_type": "code",
   "execution_count": 173,
   "id": "18346c98",
   "metadata": {},
   "outputs": [],
   "source": [
    "label_files = img2label_paths(im_files) "
   ]
  },
  {
   "cell_type": "code",
   "execution_count": 174,
   "id": "f6b6b65c",
   "metadata": {},
   "outputs": [
    {
     "data": {
      "text/plain": [
       "['/data/ij/Mosaic_data_augmentation_YOLO/labels/generated_image_573.txt',\n",
       " '/data/ij/Mosaic_data_augmentation_YOLO/labels/generated_image_817.txt',\n",
       " '/data/ij/Mosaic_data_augmentation_YOLO/labels/generated_image_287.txt',\n",
       " '/data/ij/Mosaic_data_augmentation_YOLO/labels/generated_image_592.txt',\n",
       " '/data/ij/Mosaic_data_augmentation_YOLO/labels/generated_image_62.txt',\n",
       " '/data/ij/Mosaic_data_augmentation_YOLO/labels/generated_image_541.txt',\n",
       " '/data/ij/Mosaic_data_augmentation_YOLO/labels/generated_image_393.txt',\n",
       " '/data/ij/Mosaic_data_augmentation_YOLO/labels/generated_image_521.txt',\n",
       " '/data/ij/Mosaic_data_augmentation_YOLO/labels/generated_image_803.txt',\n",
       " '/data/ij/Mosaic_data_augmentation_YOLO/labels/generated_image_559.txt']"
      ]
     },
     "execution_count": 174,
     "metadata": {},
     "output_type": "execute_result"
    }
   ],
   "source": [
    "label_files[:10]"
   ]
  },
  {
   "cell_type": "markdown",
   "id": "69d6835d",
   "metadata": {},
   "source": [
    "<br> \n",
    "length of files"
   ]
  },
  {
   "cell_type": "code",
   "execution_count": 175,
   "id": "f7ca17c2",
   "metadata": {},
   "outputs": [],
   "source": [
    "n = len(im_files)\n",
    "indices_ = range(n)"
   ]
  },
  {
   "cell_type": "code",
   "execution_count": 176,
   "id": "0c266296",
   "metadata": {},
   "outputs": [
    {
     "name": "stdout",
     "output_type": "stream",
     "text": [
      "range(0, 534)\n"
     ]
    }
   ],
   "source": [
    "print(indices_)"
   ]
  },
  {
   "cell_type": "markdown",
   "id": "797d48a1",
   "metadata": {},
   "source": [
    "<br> \n",
    "4 image center poing"
   ]
  },
  {
   "cell_type": "code",
   "execution_count": 177,
   "id": "9274c77e",
   "metadata": {},
   "outputs": [],
   "source": [
    "# center point\n",
    "# random.seed(1)\n",
    "yc, xc = (int(random.uniform(-x, 2 * s + x)) for x in mosaic_border)  "
   ]
  },
  {
   "cell_type": "code",
   "execution_count": 178,
   "id": "2ee0433e",
   "metadata": {},
   "outputs": [
    {
     "name": "stdout",
     "output_type": "stream",
     "text": [
      "32 74\n"
     ]
    }
   ],
   "source": [
    "print(yc, xc)"
   ]
  },
  {
   "cell_type": "markdown",
   "id": "87e15da0",
   "metadata": {},
   "source": [
    "<br> \n",
    "choice random 4 images and shuffle"
   ]
  },
  {
   "cell_type": "code",
   "execution_count": 179,
   "id": "6c130ac9",
   "metadata": {},
   "outputs": [],
   "source": [
    "# random 4 images\n",
    "indices = random.choices(indices_, k=4)  # 3 additional image indices # [0, 3292, 20762, 18713]\n",
    "random.shuffle(indices)  # [18713, 0, 20762, 3292]"
   ]
  },
  {
   "cell_type": "code",
   "execution_count": 180,
   "id": "5a6d31af",
   "metadata": {},
   "outputs": [
    {
     "name": "stdout",
     "output_type": "stream",
     "text": [
      "[190, 303, 360, 120]\n"
     ]
    }
   ],
   "source": [
    "print(indices)"
   ]
  },
  {
   "cell_type": "markdown",
   "id": "afb82809",
   "metadata": {},
   "source": [
    "<br> \n",
    "create mosaic image"
   ]
  },
  {
   "cell_type": "code",
   "execution_count": 240,
   "id": "7513a8cd",
   "metadata": {},
   "outputs": [
    {
     "name": "stdout",
     "output_type": "stream",
     "text": [
      "i : 0\n",
      "index : 190\n",
      "i : 1\n",
      "index : 303\n",
      "i : 2\n",
      "index : 360\n",
      "i : 3\n",
      "index : 120\n"
     ]
    }
   ],
   "source": [
    "for i, index in enumerate(indices):\n",
    "    print(f'i : {i}')\n",
    "    print(f'index : {index}')\n",
    "    # Load image\n",
    "    img, (h0, w0), (h, w) = myLoadImage(index,im_files)\n",
    "\n",
    "    # place img in img4\n",
    "    if i == 0:  # top left\n",
    "        img4 = np.full((s * 2, s * 2, img.shape[2]), 114, dtype=np.uint8)  # base image with 4 tiles\n",
    "        x1a, y1a, x2a, y2a = max(xc - w, 0), max(yc - h, 0), xc, yc  # xmin, ymin, xmax, ymax (large image)\n",
    "        x1b, y1b, x2b, y2b = w - (x2a - x1a), h - (y2a - y1a), w, h  # xmin, ymin, xmax, ymax (small image)\n",
    "\n",
    "        xmin, ymin = x1a, y1a\n",
    "\n",
    "    elif i == 1:  # top right\n",
    "        x1a, y1a, x2a, y2a = xc, max(yc - h, 0), min(xc + w, s * 2), yc\n",
    "        x1b, y1b, x2b, y2b = 0, h - (y2a - y1a), min(w, x2a - x1a), h\n",
    "    elif i == 2:  # bottom left\n",
    "        x1a, y1a, x2a, y2a = max(xc - w, 0), yc, xc, min(s * 2, yc + h)\n",
    "        x1b, y1b, x2b, y2b = w - (x2a - x1a), 0, w, min(y2a - y1a, h)\n",
    "    elif i == 3:  # bottom right\n",
    "        x1a, y1a, x2a, y2a = xc, yc, min(xc + w, s * 2), min(s * 2, yc + h)\n",
    "        x1b, y1b, x2b, y2b = 0, 0, min(w, x2a - x1a), min(y2a - y1a, h)\n",
    "\n",
    "        xmax, ymax = x2a, y2a\n",
    "\n",
    "    img4[y1a:y2a, x1a:x2a] = img[y1b:y2b, x1b:x2b]  # img4[ymin:ymax, xmin:xmax]\n",
    "    padw = x1a - x1b\n",
    "    padh = y1a - y1b\n",
    "\n",
    "    # Labels\n",
    "    labels = np.loadtxt(label_files[index], ndmin=2)\n",
    "\n",
    "    if labels.size:\n",
    "        labels[:, 1:] = xywhn2xyxy(labels[:, 1:], w, h, padw, padh)  # normalized xywh to pixel xyxy format\n",
    "        labels[labels < 0] = 0\n",
    "        labels[labels > s*2] = s*2\n",
    "    labels4.append(labels)"
   ]
  },
  {
   "cell_type": "markdown",
   "id": "715224ce",
   "metadata": {},
   "source": [
    "<br>\n",
    "<hr>\n",
    "details"
   ]
  },
  {
   "cell_type": "markdown",
   "id": "0e408bbe",
   "metadata": {},
   "source": [
    "<br> \n",
    "i=0"
   ]
  },
  {
   "cell_type": "code",
   "execution_count": 249,
   "id": "62293bd2",
   "metadata": {},
   "outputs": [],
   "source": [
    "img4 = np.full((s * 2, s * 2, img.shape[2]), 114, dtype=np.uint8) "
   ]
  },
  {
   "cell_type": "code",
   "execution_count": 250,
   "id": "50ebc02b",
   "metadata": {},
   "outputs": [
    {
     "name": "stdout",
     "output_type": "stream",
     "text": [
      "(128, 128, 3)\n"
     ]
    },
    {
     "data": {
      "image/png": "[encoded data removed]",
      "text/plain": [
       "<PIL.Image.Image image mode=RGB size=128x128>"
      ]
     },
     "execution_count": 250,
     "metadata": {},
     "output_type": "execute_result"
    }
   ],
   "source": [
    "print(img4.shape)\n",
    "Image.fromarray(cv2.cvtColor(img4, cv2.COLOR_BGR2RGB))"
   ]
  },
  {
   "cell_type": "code",
   "execution_count": 251,
   "id": "a22e4e8e",
   "metadata": {},
   "outputs": [],
   "source": [
    "labels4 = [] # 최종 output image \n",
    "i = 0\n",
    "index = indices[i]"
   ]
  },
  {
   "cell_type": "code",
   "execution_count": 252,
   "id": "212b54c5",
   "metadata": {},
   "outputs": [],
   "source": [
    "img, (h0, w0), (h, w) = myLoadImage(index,im_files)\n"
   ]
  },
  {
   "cell_type": "code",
   "execution_count": 310,
   "id": "18c823a4",
   "metadata": {},
   "outputs": [
    {
     "name": "stdout",
     "output_type": "stream",
     "text": [
      "[32, 32]\n",
      "64\n",
      "75 95\n"
     ]
    }
   ],
   "source": [
    "# print(h0, w0)\n",
    "# print(h, w)\n",
    "\n",
    "mosaic_border = [img_size // 2, img_size // 2]\n",
    "print(mosaic_border)\n",
    "print(s)\n",
    "\n",
    "yc, xc = (int(random.uniform(64, 2 * s)) for x in mosaic_border)  \n",
    "print(yc, xc)"
   ]
  },
  {
   "cell_type": "code",
   "execution_count": 314,
   "id": "3369606e",
   "metadata": {},
   "outputs": [],
   "source": [
    "# place img in img4\n",
    "\n",
    "if i == 0:  # top left\n",
    "    img4 = np.full((s * 2, s * 2, img.shape[2]), 114, dtype=np.uint8)  # base image with 4 tiles\n",
    "    x1a, y1a, x2a, y2a = max(xc - w, 0), max(yc - h, 0), xc, yc  # xmin, ymin, xmax, ymax (large image)\n",
    "    x1b, y1b, x2b, y2b = w - (x2a - x1a), h - (y2a - y1a), w, h  # xmin, ymin, xmax, ymax (small image)\n",
    "\n",
    "    xmin, ymin = x1a, y1a\n"
   ]
  },
  {
   "cell_type": "code",
   "execution_count": 315,
   "id": "68239270",
   "metadata": {},
   "outputs": [
    {
     "name": "stdout",
     "output_type": "stream",
     "text": [
      "64\n",
      "0 64 0 64\n",
      "11 75 31 95\n"
     ]
    },
    {
     "data": {
      "image/png": "[encoded data removed]",
      "text/plain": [
       "<PIL.Image.Image image mode=RGB size=128x128>"
      ]
     },
     "execution_count": 315,
     "metadata": {},
     "output_type": "execute_result"
    }
   ],
   "source": [
    "print(s)\n",
    "print(y1b, y2b, x1b,x2b)\n",
    "print(y1a,y2a,x1a,x2a)\n",
    "# img4[0:64, x1a:x2a] = img[0:y2b, x1b:x2b]  # img4[ymin:ymax, xmin:xmax]\n",
    "img4[y1a:y2a, x1a:x2a] = img[y1b:y2b, x1b:x2b]\n",
    "Image.fromarray(cv2.cvtColor(img4, cv2.COLOR_BGR2RGB))"
   ]
  },
  {
   "cell_type": "code",
   "execution_count": 317,
   "id": "b1e09517",
   "metadata": {},
   "outputs": [
    {
     "name": "stdout",
     "output_type": "stream",
     "text": [
      "labels : [[0.  0.5 0.5 1.  1. ]]\n",
      "labels.size : 5\n",
      "labels : [[ 0. 31. 11. 95. 75.]]\n"
     ]
    }
   ],
   "source": [
    "img4[y1a:y2a, x1a:x2a] = img[y1b:y2b, x1b:x2b]  # img4[ymin:ymax, xmin:xmax]\n",
    "\n",
    "padw = x1a - x1b\n",
    "padh = y1a - y1b\n",
    "\n",
    "# Labels\n",
    "labels = np.loadtxt(label_files[index], ndmin=2)\n",
    "print(f'labels : {labels}')\n",
    "print(f'labels.size : {labels.size}')\n",
    "if labels.size:\n",
    "    labels[:, 1:] = xywhn2xyxy(labels[:, 1:], w, h, padw, padh)  # normalized xywh to pixel xyxy format\n",
    "    labels[labels < 0] = 0\n",
    "    labels[labels > s*2] = s*2\n",
    "    print(f'labels : {labels}')\n",
    "labels4.append(labels)"
   ]
  },
  {
   "cell_type": "code",
   "execution_count": 318,
   "id": "353bea4d",
   "metadata": {},
   "outputs": [
    {
     "name": "stdout",
     "output_type": "stream",
     "text": [
      "labels_ : [[0.  0.5 0.5 1.  1. ]]\n",
      "labels_ : [[ 0.  0.  0. 64. 64.]]\n"
     ]
    },
    {
     "data": {
      "image/png": "[encoded data removed]",
      "text/plain": [
       "<PIL.Image.Image image mode=RGB size=64x64>"
      ]
     },
     "execution_count": 318,
     "metadata": {},
     "output_type": "execute_result"
    }
   ],
   "source": [
    "labels_ = np.loadtxt(label_files[index], ndmin=2)\n",
    "print(f'labels_ : {labels_}')\n",
    "labels_[:, 1:] = xywhn2xyxy(labels_[:, 1:], w, h)  \n",
    "print(f'labels_ : {labels_}')\n",
    "myFig(cv2.cvtColor(img, cv2.COLOR_BGR2RGB), labels_)"
   ]
  },
  {
   "cell_type": "code",
   "execution_count": 319,
   "id": "268bcd39",
   "metadata": {
    "scrolled": false
   },
   "outputs": [
    {
     "name": "stdout",
     "output_type": "stream",
     "text": [
      "labels : [[ 0. 31. 11. 95. 75.]]\n"
     ]
    },
    {
     "data": {
      "image/png": "[encoded data removed]",
      "text/plain": [
       "<PIL.Image.Image image mode=RGB size=128x128>"
      ]
     },
     "execution_count": 319,
     "metadata": {},
     "output_type": "execute_result"
    }
   ],
   "source": [
    "print(f'labels : {labels}')\n",
    "myFig(cv2.cvtColor(img4, cv2.COLOR_BGR2RGB), labels)"
   ]
  },
  {
   "cell_type": "markdown",
   "id": "a492b80a",
   "metadata": {},
   "source": [
    "<br> \n",
    "i=1"
   ]
  },
  {
   "cell_type": "code",
   "execution_count": 191,
   "id": "6737d9d5",
   "metadata": {},
   "outputs": [],
   "source": [
    "i = 1\n",
    "index = indices[i]\n",
    "\n",
    "img, (h0, w0), (h, w) = myLoadImage(index,im_files)\n",
    "\n",
    "x1a, y1a, x2a, y2a = xc, max(yc - h, 0), min(xc + w, s * 2), yc\n",
    "x1b, y1b, x2b, y2b = 0, h - (y2a - y1a), min(w, x2a - x1a), h\n",
    "img4[y1a:y2a, x1a:x2a] = img[y1b:y2b, x1b:x2b]  # img4[ymin:ymax, xmin:xmax]\n",
    "\n",
    "padw = x1a - x1b\n",
    "padh = y1a - y1b\n",
    "\n",
    "# Labels\n",
    "labels = np.loadtxt(label_files[index], ndmin=2)\n",
    "\n",
    "if labels.size:\n",
    "    labels[:, 1:] = xywhn2xyxy(labels[:, 1:], w, h, padw, padh)  # normalized xywh to pixel xyxy format\n",
    "    labels[labels < 0] = 0\n",
    "    labels[labels > s*2] = s*2\n",
    "labels4.append(labels)"
   ]
  },
  {
   "cell_type": "code",
   "execution_count": 192,
   "id": "159bb08b",
   "metadata": {},
   "outputs": [
    {
     "data": {
      "image/png": "[encoded data removed]",
      "text/plain": [
       "<PIL.Image.Image image mode=RGB size=64x64>"
      ]
     },
     "execution_count": 192,
     "metadata": {},
     "output_type": "execute_result"
    }
   ],
   "source": [
    "labels_ = np.loadtxt(label_files[index], ndmin=2)\n",
    "labels_[:, 1:] = xywhn2xyxy(labels_[:, 1:], w, h)  \n",
    "myFig(cv2.cvtColor(img, cv2.COLOR_BGR2RGB), labels_)"
   ]
  },
  {
   "cell_type": "code",
   "execution_count": 193,
   "id": "203044d1",
   "metadata": {},
   "outputs": [
    {
     "data": {
      "image/png": "[encoded data removed]",
      "text/plain": [
       "<PIL.Image.Image image mode=RGB size=128x128>"
      ]
     },
     "execution_count": 193,
     "metadata": {},
     "output_type": "execute_result"
    }
   ],
   "source": [
    "myFig(cv2.cvtColor(img4, cv2.COLOR_BGR2RGB), labels)"
   ]
  },
  {
   "cell_type": "markdown",
   "id": "15a93ca6",
   "metadata": {},
   "source": [
    "<br> \n",
    "i=2"
   ]
  },
  {
   "cell_type": "code",
   "execution_count": 194,
   "id": "13249c34",
   "metadata": {},
   "outputs": [],
   "source": [
    "i = 2\n",
    "index = indices[i]\n",
    "\n",
    "img, (h0, w0), (h, w) = myLoadImage(index,im_files)\n",
    "\n",
    "x1a, y1a, x2a, y2a = max(xc - w, 0), yc, xc, min(s * 2, yc + h)\n",
    "x1b, y1b, x2b, y2b = w - (x2a - x1a), 0, w, min(y2a - y1a, h)\n",
    "img4[y1a:y2a, x1a:x2a] = img[y1b:y2b, x1b:x2b]  # img4[ymin:ymax, xmin:xmax]\n",
    "\n",
    "padw = x1a - x1b\n",
    "padh = y1a - y1b\n",
    "\n",
    "# Labels\n",
    "labels = np.loadtxt(label_files[index], ndmin=2)\n",
    "\n",
    "if labels.size:\n",
    "    labels[:, 1:] = xywhn2xyxy(labels[:, 1:], w, h, padw, padh)  # normalized xywh to pixel xyxy format\n",
    "    labels[labels < 0] = 0\n",
    "    labels[labels > s*2] = s*2\n",
    "labels4.append(labels)"
   ]
  },
  {
   "cell_type": "code",
   "execution_count": 195,
   "id": "ac136331",
   "metadata": {},
   "outputs": [
    {
     "data": {
      "image/png": "[encoded data removed]",
      "text/plain": [
       "<PIL.Image.Image image mode=RGB size=64x64>"
      ]
     },
     "execution_count": 195,
     "metadata": {},
     "output_type": "execute_result"
    }
   ],
   "source": [
    "labels_ = np.loadtxt(label_files[index], ndmin=2)\n",
    "labels_[:, 1:] = xywhn2xyxy(labels_[:, 1:], w, h)  \n",
    "myFig(cv2.cvtColor(img, cv2.COLOR_BGR2RGB), labels_)"
   ]
  },
  {
   "cell_type": "code",
   "execution_count": 207,
   "id": "08e0c8e8",
   "metadata": {},
   "outputs": [
    {
     "data": {
      "image/png": "[encoded data removed]",
      "text/plain": [
       "<PIL.Image.Image image mode=RGB size=64x64>"
      ]
     },
     "execution_count": 207,
     "metadata": {},
     "output_type": "execute_result"
    }
   ],
   "source": [
    "myFig(cv2.cvtColor(img4, cv2.COLOR_BGR2RGB), labels)"
   ]
  },
  {
   "cell_type": "markdown",
   "id": "4f95e94f",
   "metadata": {},
   "source": [
    "<br> \n",
    "i=3"
   ]
  },
  {
   "cell_type": "code",
   "execution_count": 197,
   "id": "360894c3",
   "metadata": {},
   "outputs": [],
   "source": [
    "i = 3\n",
    "index = indices[i]\n",
    "\n",
    "img, (h0, w0), (h, w) = myLoadImage(index,im_files)\n",
    "\n",
    "x1a, y1a, x2a, y2a = xc, yc, min(xc + w, s * 2), min(s * 2, yc + h)\n",
    "x1b, y1b, x2b, y2b = 0, 0, min(w, x2a - x1a), min(y2a - y1a, h)\n",
    "\n",
    "xmax, ymax = x2a, y2a\n",
    "\n",
    "img4[y1a:y2a, x1a:x2a] = img[y1b:y2b, x1b:x2b]  # img4[ymin:ymax, xmin:xmax]\n",
    "\n",
    "padw = x1a - x1b\n",
    "padh = y1a - y1b\n",
    "\n",
    "# Labels\n",
    "labels = np.loadtxt(label_files[index], ndmin=2)\n",
    "\n",
    "if labels.size:\n",
    "    labels[:, 1:] = xywhn2xyxy(labels[:, 1:], w, h, padw, padh)  # normalized xywh to pixel xyxy format\n",
    "    labels[labels < 0] = 0\n",
    "    labels[labels > s*2] = s*2\n",
    "labels4.append(labels)"
   ]
  },
  {
   "cell_type": "code",
   "execution_count": 198,
   "id": "b5e9d937",
   "metadata": {},
   "outputs": [
    {
     "data": {
      "image/png": "[encoded data removed]",
      "text/plain": [
       "<PIL.Image.Image image mode=RGB size=64x64>"
      ]
     },
     "execution_count": 198,
     "metadata": {},
     "output_type": "execute_result"
    }
   ],
   "source": [
    "labels_ = np.loadtxt(label_files[index], ndmin=2)\n",
    "labels_[:, 1:] = xywhn2xyxy(labels_[:, 1:], w, h)  \n",
    "myFig(cv2.cvtColor(img, cv2.COLOR_BGR2RGB), labels_)"
   ]
  },
  {
   "cell_type": "code",
   "execution_count": 199,
   "id": "1780560f",
   "metadata": {},
   "outputs": [
    {
     "data": {
      "image/png": "[encoded data removed]",
      "text/plain": [
       "<PIL.Image.Image image mode=RGB size=128x128>"
      ]
     },
     "execution_count": 199,
     "metadata": {},
     "output_type": "execute_result"
    }
   ],
   "source": [
    "myFig(cv2.cvtColor(img4, cv2.COLOR_BGR2RGB), labels)"
   ]
  },
  {
   "cell_type": "markdown",
   "id": "594009cd",
   "metadata": {},
   "source": [
    "<hr> \n",
    "<br>"
   ]
  },
  {
   "cell_type": "markdown",
   "id": "e95f744d",
   "metadata": {},
   "source": [
    "<br> \n",
    "labels"
   ]
  },
  {
   "cell_type": "code",
   "execution_count": 200,
   "id": "23dc6821",
   "metadata": {},
   "outputs": [],
   "source": [
    "# Concat/clip labels\n",
    "labels4 = np.concatenate(labels4, 0)"
   ]
  },
  {
   "cell_type": "code",
   "execution_count": 201,
   "id": "1c9d956a",
   "metadata": {},
   "outputs": [
    {
     "data": {
      "text/plain": [
       "array([[  0.,  10.,   0.,  74.,  32.],\n",
       "       [  0.,  74.,   0., 128.,  32.],\n",
       "       [  0.,  10.,  32.,  74.,  96.],\n",
       "       [  0.,  74.,  32., 128.,  96.]])"
      ]
     },
     "execution_count": 201,
     "metadata": {},
     "output_type": "execute_result"
    }
   ],
   "source": [
    "labels4"
   ]
  },
  {
   "cell_type": "markdown",
   "id": "3e497b44",
   "metadata": {},
   "source": [
    "<br> \n",
    "no padding"
   ]
  },
  {
   "cell_type": "code",
   "execution_count": 202,
   "id": "47a0313d",
   "metadata": {},
   "outputs": [],
   "source": [
    "# no padding\n",
    "img4 = img4[ymin:ymax, xmin:xmax,:]\n",
    "labels4 = noPad(labels4, xc, yc, xmin, ymin)"
   ]
  },
  {
   "cell_type": "code",
   "execution_count": 203,
   "id": "44511222",
   "metadata": {},
   "outputs": [
    {
     "data": {
      "image/png": "[encoded data removed]",
      "text/plain": [
       "<PIL.Image.Image image mode=RGB size=118x96>"
      ]
     },
     "execution_count": 203,
     "metadata": {},
     "output_type": "execute_result"
    }
   ],
   "source": [
    "myFig(cv2.cvtColor(img4, cv2.COLOR_BGR2RGB), labels4)"
   ]
  },
  {
   "cell_type": "markdown",
   "id": "5736a04b",
   "metadata": {},
   "source": [
    "<br> \n",
    "resize"
   ]
  },
  {
   "cell_type": "code",
   "execution_count": 204,
   "id": "44bba970",
   "metadata": {},
   "outputs": [],
   "source": [
    "img4 = cv2.resize(img4, (w,h))\n",
    "labels4[:,1:] = xyxy2xywhn(labels4[:,1:], w = xmax - xmin, h = ymax-ymin)\n",
    "labels4 = labels4[labels4[:,3]>0]\n",
    "labels4 = labels4[labels4[:,4]>0]\n",
    "labels4[:,1:] = xywhn2xyxy(labels4[:,1:], w = img4.shape[1], h = img4.shape[0])"
   ]
  },
  {
   "cell_type": "code",
   "execution_count": 205,
   "id": "22947fa7",
   "metadata": {},
   "outputs": [
    {
     "name": "stdout",
     "output_type": "stream",
     "text": [
      "(64, 64, 3)\n"
     ]
    },
    {
     "data": {
      "image/png": "[encoded data removed]",
      "text/plain": [
       "<PIL.Image.Image image mode=RGB size=64x64>"
      ]
     },
     "execution_count": 205,
     "metadata": {},
     "output_type": "execute_result"
    }
   ],
   "source": [
    "print(img4.shape)\n",
    "myFig(cv2.cvtColor(img4, cv2.COLOR_BGR2RGB), labels4)"
   ]
  },
  {
   "cell_type": "code",
   "execution_count": null,
   "id": "23fd75d7",
   "metadata": {},
   "outputs": [],
   "source": []
  },
  {
   "cell_type": "code",
   "execution_count": null,
   "id": "3618b76f",
   "metadata": {},
   "outputs": [],
   "source": []
  },
  {
   "cell_type": "code",
   "execution_count": null,
   "id": "44396618",
   "metadata": {},
   "outputs": [],
   "source": []
  },
  {
   "cell_type": "code",
   "execution_count": null,
   "id": "fba82607",
   "metadata": {},
   "outputs": [],
   "source": []
  },
  {
   "cell_type": "code",
   "execution_count": null,
   "id": "e38384da",
   "metadata": {},
   "outputs": [],
   "source": []
  },
  {
   "cell_type": "code",
   "execution_count": null,
   "id": "57601c3c",
   "metadata": {},
   "outputs": [],
   "source": []
  },
  {
   "cell_type": "code",
   "execution_count": null,
   "id": "f7460e18",
   "metadata": {},
   "outputs": [],
   "source": []
  },
  {
   "cell_type": "code",
   "execution_count": null,
   "id": "d9bf8cc1",
   "metadata": {},
   "outputs": [],
   "source": []
  },
  {
   "cell_type": "code",
   "execution_count": null,
   "id": "af57cb12",
   "metadata": {},
   "outputs": [],
   "source": []
  },
  {
   "cell_type": "code",
   "execution_count": null,
   "id": "4da51b94",
   "metadata": {},
   "outputs": [],
   "source": []
  },
  {
   "cell_type": "code",
   "execution_count": null,
   "id": "8e727bac",
   "metadata": {},
   "outputs": [],
   "source": []
  },
  {
   "cell_type": "code",
   "execution_count": null,
   "id": "1ec7e093",
   "metadata": {},
   "outputs": [],
   "source": []
  },
  {
   "cell_type": "code",
   "execution_count": null,
   "id": "d0b81aad",
   "metadata": {},
   "outputs": [],
   "source": []
  },
  {
   "cell_type": "code",
   "execution_count": null,
   "id": "a62d7688",
   "metadata": {},
   "outputs": [],
   "source": []
  },
  {
   "cell_type": "code",
   "execution_count": null,
   "id": "daa56860",
   "metadata": {},
   "outputs": [],
   "source": []
  }
 ],
 "metadata": {
  "kernelspec": {
   "display_name": "Python 3 (ipykernel)",
   "language": "python3.8",
   "name": "python3"
  },
  "language_info": {
   "codemirror_mode": {
    "name": "ipython",
    "version": 3
   },
   "file_extension": ".py",
   "mimetype": "text/x-python",
   "name": "python",
   "nbconvert_exporter": "python",
   "pygments_lexer": "ipython3",
   "version": "3.8.0"
  },
  "latex_envs": {
   "LaTeX_envs_menu_present": true,
   "autoclose": false,
   "autocomplete": true,
   "bibliofile": "biblio.bib",
   "cite_by": "apalike",
   "current_citInitial": 1,
   "eqLabelWithNumbers": true,
   "eqNumInitial": 1,
   "hotkeys": {
    "equation": "Ctrl-E",
    "itemize": "Ctrl-I"
   },
   "labels_anchors": false,
   "latex_user_defs": false,
   "report_style_numbering": false,
   "user_envs_cfg": false
  },
  "toc": {
   "base_numbering": 1,
   "nav_menu": {},
   "number_sections": true,
   "sideBar": true,
   "skip_h1_title": false,
   "title_cell": "Table of Contents",
   "title_sidebar": "Contents",
   "toc_cell": true,
   "toc_position": {},
   "toc_section_display": true,
   "toc_window_display": true
  },
  "varInspector": {
   "cols": {
    "lenName": 16,
    "lenType": 16,
    "lenVar": 40
   },
   "kernels_config": {
    "python": {
     "delete_cmd_postfix": "",
     "delete_cmd_prefix": "del ",
     "library": "var_list.py",
     "varRefreshCmd": "print(var_dic_list())"
    },
    "r": {
     "delete_cmd_postfix": ") ",
     "delete_cmd_prefix": "rm(",
     "library": "var_list.r",
     "varRefreshCmd": "cat(var_dic_list()) "
    }
   },
   "types_to_exclude": [
    "module",
    "function",
    "builtin_function_or_method",
    "instance",
    "_Feature"
   ],
   "window_display": false
  }
 },
 "nbformat": 4,
 "nbformat_minor": 5
}
