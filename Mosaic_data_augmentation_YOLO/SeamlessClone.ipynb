{
 "cells": [
  {
   "cell_type": "code",
   "execution_count": null,
   "id": "c3f3c364",
   "metadata": {},
   "outputs": [],
   "source": []
  },
  {
   "cell_type": "code",
   "execution_count": 21,
   "id": "d57cee66",
   "metadata": {},
   "outputs": [
    {
     "name": "stdout",
     "output_type": "stream",
     "text": [
      "[[255 255 255 ... 255 255 255]\n",
      " [255 255 255 ... 255 255 255]\n",
      " [255 255 255 ... 255 255 255]\n",
      " ...\n",
      " [255 255 255 ... 255 255 255]\n",
      " [255 255 255 ... 255 255 255]\n",
      " [255 255 255 ... 255 255 255]]\n"
     ]
    }
   ],
   "source": [
    "# SeamlessClone을 활용한 이미지 합성 (seamlessclone.py)\n",
    "\n",
    "\n",
    "import cv2\n",
    "import numpy as np\n",
    "import matplotlib.pylab as plt\n",
    "\n",
    "#--① 크로마키 배경 영상과 합성할 배경 영상 읽기\n",
    "# img1 = cv2.imread(\"./apple/generated_image_165.png\")\n",
    "img1 = cv2.imread(\"./test.png\")\n",
    "img2 = cv2.imread(\"./images_ori/1.jpg\")\n",
    "\n",
    "#--② ROI 선택을 위한 좌표 계산\n",
    "height1, width1 = img1.shape[:2]\n",
    "height2, width2 = img2.shape[:2]\n",
    "x = (width2 - width1)//2\n",
    "y = height2 - height1\n",
    "w = x + width1\n",
    "h = y + height1\n",
    "\n",
    "#--③ 크로마키 배경 영상에서 크로마키 영역을 10픽셀 정도로 지정\n",
    "chromakey = img1[:10, :10, :]\n",
    "offset = 20\n",
    "\n",
    "#--④ 크로마키 영역과 영상 전체를 HSV로 변경\n",
    "hsv_chroma = cv2.cvtColor(chromakey, cv2.COLOR_BGR2HSV)\n",
    "hsv_img = cv2.cvtColor(img1, cv2.COLOR_BGR2HSV)\n",
    "\n",
    "#--⑤ 크로마키 영역의 H값에서 offset 만큼 여유를 두어서 범위 지정\n",
    "# offset 값은 여러차례 시도 후 결정\n",
    "#chroma_h = hsv_chroma[0]\n",
    "chroma_h = hsv_chroma[:,:,0]\n",
    "lower = np.array([chroma_h.min()-offset, 100, 100])\n",
    "upper = np.array([chroma_h.max()+offset, 255, 255])\n",
    "\n",
    "#--⑥ 마스크 생성 및 마스킹 후 합성\n",
    "mask = cv2.inRange(hsv_img, lower, upper) #(246, 192)\n",
    "print(mask)\n",
    "mask_inv = cv2.bitwise_not(mask) #(246, 192)\n",
    "\n",
    "roi = img2[y:h, x:w]\n",
    "fg = cv2.bitwise_and(img1, img1, mask=mask_inv)\n",
    "bg = cv2.bitwise_and(roi, roi, mask=mask)\n",
    "img2[y:h, x:w] = fg + bg\n",
    "\n",
    "#--⑦ 결과 출력\n",
    "# cv2.imshow('chromakey', img1)\n",
    "# cv2.imshow('added', img2)\n",
    "# cv2.waitKey()\n",
    "# cv2.destroyAllWindows()"
   ]
  },
  {
   "cell_type": "code",
   "execution_count": 7,
   "id": "adcf427a",
   "metadata": {},
   "outputs": [],
   "source": [
    "from PIL import Image, ImageDraw\n",
    "import matplotlib.patches as patches\n",
    "def myFig(img, bbox_list, drawB = True) :\n",
    "    image = Image.fromarray(img,\"RGB\")\n",
    "    draw = ImageDraw.Draw(image)\n",
    "\n",
    "    if drawB :\n",
    "        for bbox in bbox_list : \n",
    "            for i in range(len(bbox)) :\n",
    "                xmin = bbox[i][1] \n",
    "                ymin = bbox[i][2]\n",
    "                xmax = bbox[i][3]\n",
    "                ymax = bbox[i][4]\n",
    "\n",
    "                draw.rectangle((xmin, ymin, xmax, ymax), outline=(255,0,0), width = 1) # bounding box\n",
    "#     display(image)\n",
    "    return image"
   ]
  },
  {
   "cell_type": "code",
   "execution_count": 14,
   "id": "6052a3eb",
   "metadata": {},
   "outputs": [
    {
     "data": {
      "image/png": "[encoded data removed]",
      "text/plain": [
       "<PIL.Image.Image image mode=RGB size=10x10 at 0x7FE23C28D290>"
      ]
     },
     "execution_count": 14,
     "metadata": {},
     "output_type": "execute_result"
    }
   ],
   "source": [
    "myFig(cv2.cvtColor(chromakey, cv2.COLOR_BGR2RGB), [])"
   ]
  },
  {
   "cell_type": "code",
   "execution_count": null,
   "id": "42ff4889",
   "metadata": {},
   "outputs": [],
   "source": []
  }
 ],
 "metadata": {
  "kernelspec": {
   "display_name": "Python 3 (ipykernel)",
   "language": "python",
   "name": "python3"
  },
  "language_info": {
   "codemirror_mode": {
    "name": "ipython",
    "version": 3
   },
   "file_extension": ".py",
   "mimetype": "text/x-python",
   "name": "python",
   "nbconvert_exporter": "python",
   "pygments_lexer": "ipython3",
   "version": "3.7.11"
  }
 },
 "nbformat": 4,
 "nbformat_minor": 5
}
