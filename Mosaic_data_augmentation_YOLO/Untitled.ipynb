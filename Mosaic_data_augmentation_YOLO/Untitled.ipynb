{
 "cells": [
  {
   "cell_type": "code",
   "execution_count": 1,
   "id": "35eb678c",
   "metadata": {},
   "outputs": [],
   "source": [
    "import os\n",
    "import cv2\n",
    "full_img_path = \"/data/ij/Mosaic_data_augmentation_YOLO/images\"\n",
    "full_label_path = \"/data/ij/Mosaic_data_augmentation_YOLO/labels\"\n",
    "fileEx = r'.png'\n",
    "img_list = [file for file in os.listdir(full_img_path) if file.endswith(fileEx)]\n",
    "for img_path in img_list : \n",
    "\n",
    "    img_full_path = f'{full_img_path}/{img_path}'\n",
    "    img = cv2.imread(img_full_path, cv2.IMREAD_COLOR)\n",
    "    height,width,c = img.shape[0],img.shape[1],img.shape[2]\n",
    "    print(h,w)\n",
    "\n",
    "    center_x = (width / 2)/width  # 중심 좌표 x를 계산\n",
    "    center_y = (height / 2)/height\n",
    "    print(center_x)\n",
    "\n",
    "\n",
    "    img_name = img_path.split('.')[0]\n",
    "    filename = f\"{full_label_path}/{img_name}.txt\"\n",
    "    print(filename)\n",
    "    with open(filename, 'w') as f:\n",
    "#         f.write(f\"0 0 0 {w/w} {h/h}\")\n",
    "        f.write(f\"0 {center_x} {center_y} 1 1\")\n",
    "\n",
    "    \n",
    "    \n",
    "    "
   ]
  },
  {
   "cell_type": "code",
   "execution_count": 8,
   "id": "e338c9e7",
   "metadata": {},
   "outputs": [
    {
     "name": "stdout",
     "output_type": "stream",
     "text": [
      "Initialised with 534 image(s) found.\n",
      "Output directory set to /data/ij/Mosaic_data_augmentation_YOLO/images/output."
     ]
    }
   ],
   "source": [
    "import Augmentor\n",
    "full_img_path = \"/data/ij/Mosaic_data_augmentation_YOLO/images\"\n",
    "p = Augmentor.Pipeline(full_img_path)"
   ]
  },
  {
   "cell_type": "code",
   "execution_count": 9,
   "id": "4a5fe650",
   "metadata": {},
   "outputs": [
    {
     "ename": "AttributeError",
     "evalue": "module 'Augmentor.Operations' has no attribute 'MosaicGenerator'",
     "output_type": "error",
     "traceback": [
      "\u001b[0;31m---------------------------------------------------------------------------\u001b[0m",
      "\u001b[0;31mAttributeError\u001b[0m                            Traceback (most recent call last)",
      "Cell \u001b[0;32mIn[9], line 1\u001b[0m\n\u001b[0;32m----> 1\u001b[0m mosaic \u001b[38;5;241m=\u001b[39m \u001b[43mAugmentor\u001b[49m\u001b[38;5;241;43m.\u001b[39;49m\u001b[43mOperations\u001b[49m\u001b[38;5;241;43m.\u001b[39;49m\u001b[43mMosaicGenerator\u001b[49m(probability\u001b[38;5;241m=\u001b[39m\u001b[38;5;241m0.5\u001b[39m)\n",
      "\u001b[0;31mAttributeError\u001b[0m: module 'Augmentor.Operations' has no attribute 'MosaicGenerator'"
     ]
    }
   ],
   "source": [
    "mosaic = Augmentor.Operations.MosaicGenerator(probability=0.5)"
   ]
  },
  {
   "cell_type": "code",
   "execution_count": 13,
   "id": "387fd094",
   "metadata": {},
   "outputs": [],
   "source": [
    "import cv2\n",
    "import numpy as np\n",
    "import os\n",
    "import random\n",
    "\n",
    "def mosaic(images, size=(64, 64)):\n",
    "    rows, cols = 2, 2\n",
    "    img_h, img_w, img_c = size[0], size[1], 3\n",
    "    img_mosaic = np.zeros((rows*img_h, cols*img_w, img_c), dtype=np.uint8)\n",
    "\n",
    "    for i in range(rows):\n",
    "        for j in range(cols):\n",
    "            index = i*cols+j\n",
    "            img = cv2.imread(images[index])\n",
    "            img = cv2.resize(img, size)\n",
    "            x, y = j*img_w, i*img_h\n",
    "            img_mosaic[y:y+img_h, x:x+img_w, :] = img\n",
    "\n",
    "    return img_mosaic\n",
    "\n",
    "\n",
    "def get_mosaic_data(path):\n",
    "    img_list = os.listdir(path)\n",
    "    random.shuffle(img_list)\n",
    "    if len(img_list) < 4:\n",
    "        return None\n",
    "    images = []\n",
    "    for i in range(4):\n",
    "        img_path = os.path.join(path, img_list[i])\n",
    "        images.append(img_path)\n",
    "    img_mosaic = mosaic(images)\n",
    "    return img_mosaic\n",
    "full_img_path = \"/data/ij/Mosaic_data_augmentation_YOLO/images\"\n",
    "full_label_path = \"/data/ij/Mosaic_data_augmentation_YOLO/labels\"\n",
    "imgs = get_mosaic_data(full_img_path)"
   ]
  },
  {
   "cell_type": "code",
   "execution_count": 16,
   "id": "a5f97870",
   "metadata": {},
   "outputs": [
    {
     "data": {
      "text/plain": [
       "(128, 3)"
      ]
     },
     "execution_count": 16,
     "metadata": {},
     "output_type": "execute_result"
    }
   ],
   "source": [
    "imgs[0].shape"
   ]
  },
  {
   "cell_type": "code",
   "execution_count": null,
   "id": "ecab6fdc",
   "metadata": {},
   "outputs": [],
   "source": []
  }
 ],
 "metadata": {
  "kernelspec": {
   "display_name": "Python 3 (ipykernel)",
   "language": "python",
   "name": "python3"
  },
  "language_info": {
   "codemirror_mode": {
    "name": "ipython",
    "version": 3
   },
   "file_extension": ".py",
   "mimetype": "text/x-python",
   "name": "python",
   "nbconvert_exporter": "python",
   "pygments_lexer": "ipython3",
   "version": "3.7.11"
  }
 },
 "nbformat": 4,
 "nbformat_minor": 5
}
